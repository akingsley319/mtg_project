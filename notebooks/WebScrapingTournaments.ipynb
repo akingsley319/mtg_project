{
 "cells": [
  {
   "cell_type": "markdown",
   "metadata": {},
   "source": [
    "# Web Scraping and Observing Tournament Deck Lists\n",
    "\n",
    "MTG Top 8 is one of the premier websites for looking at deck information and tournament results."
   ]
  },
  {
   "cell_type": "markdown",
   "metadata": {},
   "source": [
    "## Install Libraries"
   ]
  },
  {
   "cell_type": "code",
   "execution_count": 1,
   "metadata": {},
   "outputs": [],
   "source": [
    "import pandas as pd\n",
    "import numpy as np\n",
    "import os\n",
    "\n",
    "import requests\n",
    "from bs4 import BeautifulSoup\n",
    "\n",
    "from selenium import webdriver\n",
    "from selenium.webdriver.common.by import By\n",
    "from selenium.webdriver.support.ui import WebDriverWait\n",
    "from selenium.webdriver.support import expected_conditions as EC\n",
    "\n",
    "from contextlib import closing\n",
    "\n",
    "import time"
   ]
  },
  {
   "cell_type": "markdown",
   "metadata": {},
   "source": [
    "## Retrieve Page Destination\n",
    "\n",
    "Before getting decklist information, I first need to navigate the MTG Top 8 webpages to get to the destinations from which I will get decklist information. Once I can navigate to and collect the decklists, I will then be able to retrieve the information I want, for anlaysis."
   ]
  },
  {
   "cell_type": "markdown",
   "metadata": {},
   "source": [
    "### Grab URL for Homepage"
   ]
  },
  {
   "cell_type": "code",
   "execution_count": 2,
   "metadata": {},
   "outputs": [],
   "source": [
    "URL_MTGTOP8 = \"https://www.mtgtop8.com/\""
   ]
  },
  {
   "cell_type": "code",
   "execution_count": 3,
   "metadata": {},
   "outputs": [],
   "source": [
    "URL_MTGTOP8_MODERN = \"https://www.mtgtop8.com/format?f=MO\"\n",
    "page = requests.get(URL_MTGTOP8_MODERN)\n",
    "\n",
    "soup_modern = BeautifulSoup(page.content, \"html.parser\")"
   ]
  },
  {
   "cell_type": "markdown",
   "metadata": {},
   "source": [
    "### Grab Table Column Containing Decklists and Retrieve Meta Decks"
   ]
  },
  {
   "cell_type": "code",
   "execution_count": 4,
   "metadata": {},
   "outputs": [],
   "source": [
    "deck_table_modern = soup_modern.find('table')\n",
    "\n",
    "# We only need the leftmost column, so \"find()\" is used instead of \"find_all()\"\n",
    "deck_table_modern = deck_table_modern.find(\"td\")\n",
    "\n",
    "# Skip header and footer cells\n",
    "deck_table_modern = deck_table_modern.findChildren(recursive=False)[3:]"
   ]
  },
  {
   "cell_type": "markdown",
   "metadata": {},
   "source": [
    "### Grab each Meta Archetype, and Separate Decks"
   ]
  },
  {
   "cell_type": "code",
   "execution_count": 5,
   "metadata": {},
   "outputs": [],
   "source": [
    "deck_type_list = []\n",
    "archetype_name = None\n",
    "\n",
    "for element in deck_table_modern:\n",
    "    if element[\"class\"][0] == \"meta_arch\":\n",
    "        # Extract Archetype Name\n",
    "        archetype_name = element.contents[0].split(\" \")[0]\n",
    "    elif element[\"class\"][0] == \"hover_tr\":\n",
    "        # Extract Deck Type Name and Deck Type URL\n",
    "        deck_row = element.find_all(\"div\",\"S14\")[0].contents[0]\n",
    "        deck_type_list.append({\"name\": deck_row.contents[0], \"archetype\": archetype_name, \"url\": URL_MTGTOP8+deck_row[\"href\"]})\n",
    "    else:\n",
    "        raise ValueError(\"Unwanted Row in Elements\")"
   ]
  },
  {
   "cell_type": "markdown",
   "metadata": {},
   "source": [
    "### Grab URL to Each Deck on Each Deck Type's Webpage"
   ]
  },
  {
   "cell_type": "code",
   "execution_count": 6,
   "metadata": {},
   "outputs": [],
   "source": [
    "def return_deck_urls_multiple_pages(deck_type_url, driver, max_pages=100):\n",
    "    out = []\n",
    "\n",
    "    page_count = 1\n",
    "\n",
    "    # navigate to page\n",
    "    driver.get(deck_type_url)  # Selenium driver, currently configured\n",
    "    time.sleep(10)\n",
    "\n",
    "    more_pages = True\n",
    "    while more_pages:\n",
    "        soup_page = BeautifulSoup(driver.page_source)\n",
    "        page_base = soup_page.find('table').find_all('td')[1].find_all(\"form\")\n",
    "\n",
    "        # Returns deck list urls\n",
    "        for deck_list_item in page_base[0].find_all('tr')[2:-1]:\n",
    "            out.append(URL_MTGTOP8 + deck_list_item.find('a', href=True)[\"href\"])\n",
    "\n",
    "        # Checks the \"Next\" button for an an \"onclick\" attribute, to determine whether there are more pages\n",
    "        next_button = page_base[1].find('table').find('table').find('tr').find_all('td')[-2].find('div')\n",
    "        if (page_count >= max_pages) or (next_button.has_attr(\"onclick\") == False):\n",
    "            # End loop\n",
    "            more_pages = False\n",
    "            break\n",
    "        else:\n",
    "            # If the \"Next\" button is clickable navigates to next page\n",
    "            driver.find_element(By.XPATH, \"//div[contains(text(), 'Next')]\").click()\n",
    "            page_count += 1\n",
    "\n",
    "            time.sleep(2)\n",
    "\n",
    "    return out"
   ]
  },
  {
   "cell_type": "code",
   "execution_count": 7,
   "metadata": {},
   "outputs": [
    {
     "name": "stdout",
     "output_type": "stream",
     "text": [
      "Finished Deck List for 4/5c Aggro in archetype AGGRO. There are 99 decks.\n",
      "Finished Deck List for Cascade Crash in archetype AGGRO. There are 65 decks.\n",
      "Finished Deck List for UR Aggro in archetype AGGRO. There are 60 decks.\n",
      "Finished Deck List for Rakdos Aggro in archetype AGGRO. There are 40 decks.\n",
      "Finished Deck List for Hardened Scales in archetype AGGRO. There are 18 decks.\n",
      "Finished Deck List for Jund in archetype AGGRO. There are 15 decks.\n",
      "Finished Deck List for Merfolk in archetype AGGRO. There are 14 decks.\n",
      "Finished Deck List for The Underworld Cookbook in archetype AGGRO. There are 14 decks.\n",
      "Finished Deck List for Mono Black Aggro in archetype AGGRO. There are 11 decks.\n",
      "Finished Deck List for Death's Shadow in archetype AGGRO. There are 11 decks.\n",
      "Finished Deck List for Martyr Life in archetype AGGRO. There are 10 decks.\n",
      "Finished Deck List for Elementals in archetype AGGRO. There are 5 decks.\n",
      "Finished Deck List for Red Deck Wins in archetype AGGRO. There are 5 decks.\n",
      "Finished Deck List for Temur Aggro in archetype AGGRO. There are 4 decks.\n",
      "Finished Deck List for Eldrazi Aggro in archetype AGGRO. There are 2 decks.\n",
      "Finished Deck List for Affinity in archetype AGGRO. There are 2 decks.\n",
      "Finished Deck List for Loam in archetype AGGRO. There are 2 decks.\n",
      "Finished Deck List for Mardu Midrange in archetype AGGRO. There are 1 decks.\n",
      "Finished Deck List for Goblins in archetype AGGRO. There are 1 decks.\n",
      "Finished Deck List for Orzhov Midrange in archetype AGGRO. There are 1 decks.\n",
      "Finished Deck List for Boros Aggro in archetype AGGRO. There are 1 decks.\n",
      "Finished Deck List for Bant Aggro in archetype AGGRO. There are 1 decks.\n",
      "Finished Deck List for Jeskai Aggro in archetype AGGRO. There are 1 decks.\n",
      "Finished Deck List for Other - Aggro in archetype AGGRO. There are 1 decks.\n",
      "Finished Deck List for UrzaTron in archetype CONTROL. There are 69 decks.\n",
      "Finished Deck List for The One Ring Control in archetype CONTROL. There are 35 decks.\n",
      "Finished Deck List for 4c Control in archetype CONTROL. There are 33 decks.\n",
      "Finished Deck List for Mono Black Control in archetype CONTROL. There are 18 decks.\n",
      "Finished Deck List for Urza in archetype CONTROL. There are 8 decks.\n",
      "Finished Deck List for Scapeshift in archetype CONTROL. There are 7 decks.\n",
      "Finished Deck List for Jeskai Control in archetype CONTROL. There are 3 decks.\n",
      "Finished Deck List for Gruul Utopia in archetype CONTROL. There are 2 decks.\n",
      "Finished Deck List for Grixis Control in archetype CONTROL. There are 2 decks.\n",
      "Finished Deck List for UR Control in archetype CONTROL. There are 1 decks.\n",
      "Finished Deck List for UW Control in archetype CONTROL. There are 1 decks.\n",
      "Finished Deck List for Big Red in archetype CONTROL. There are 1 decks.\n",
      "Finished Deck List for Enchantress in archetype CONTROL. There are 1 decks.\n",
      "Finished Deck List for Creatures Toolbox in archetype COMBO. There are 99 decks.\n",
      "Finished Deck List for Instant Reanimator in archetype COMBO. There are 91 decks.\n",
      "Finished Deck List for Amulet Titan in archetype COMBO. There are 76 decks.\n",
      "Finished Deck List for Living End in archetype COMBO. There are 43 decks.\n",
      "Finished Deck List for Creativity in archetype COMBO. There are 37 decks.\n",
      "Finished Deck List for Hammer Time in archetype COMBO. There are 22 decks.\n",
      "Finished Deck List for UB Mill in archetype COMBO. There are 20 decks.\n",
      "Finished Deck List for Breach in archetype COMBO. There are 13 decks.\n",
      "Finished Deck List for Reanimator in archetype COMBO. There are 4 decks.\n",
      "Finished Deck List for UR Storm in archetype COMBO. There are 3 decks.\n",
      "Finished Deck List for Tameshi Bloom in archetype COMBO. There are 2 decks.\n",
      "Finished Deck List for Valakut in archetype COMBO. There are 2 decks.\n",
      "Finished Deck List for Heliod Life in archetype COMBO. There are 2 decks.\n",
      "Finished Deck List for Infect in archetype COMBO. There are 2 decks.\n",
      "Finished Deck List for Landless in archetype COMBO. There are 2 decks.\n",
      "Finished Deck List for Dredge in archetype COMBO. There are 1 decks.\n",
      "Finished Deck List for CopyCat in archetype COMBO. There are 1 decks.\n",
      "Finished Deck List for Elves in archetype COMBO. There are 1 decks.\n",
      "Finished Deck List for Calibrated Blast in archetype COMBO. There are 1 decks.\n",
      "Finished Deck List for Glimpse of Tomorrow in archetype COMBO. There are 1 decks.\n"
     ]
    }
   ],
   "source": [
    "check_test = []\n",
    "\n",
    "# Open web browser for Selenium, in case of multiple pages of decks\n",
    "with closing(webdriver.Chrome()) as driver:\n",
    "    for deck_type in deck_type_list:\n",
    "\n",
    "        time.sleep(10)  # Wait on Web Page\n",
    "\n",
    "        url_list = []\n",
    "\n",
    "        # Pull page\n",
    "        deck_type_url = deck_type['url']\n",
    "        page = requests.get(deck_type_url)\n",
    "        soup = BeautifulSoup(page.content, \"html.parser\")\n",
    "\n",
    "        \n",
    "        # Navigate for check on whether selenium is needed (if there is mulitple pages of cards)\n",
    "        page_base_path = soup.find('table').find_all('td')[1].find_all(\"form\")\n",
    "        if len(page_base_path) > 1:\n",
    "            # Navigate Selenium (There are multiple pages)\n",
    "            selenium_deck_types = return_deck_urls_multiple_pages(deck_type_url, driver, max_pages=10)\n",
    "            for item_url in selenium_deck_types:\n",
    "                url_list.append(item_url)\n",
    "        elif len(page_base_path) == 1:\n",
    "            # Parse BeautifulSoup (There is only one page)\n",
    "            for deck_list_item in page_base_path[0].find_all('tr')[2:-1]:\n",
    "                url_list.append(URL_MTGTOP8 + str(deck_list_item.find('a', href=True)[\"href\"]))\n",
    "        else:\n",
    "            raise ValueError(\"There are no decks on page\")\n",
    "        \n",
    "        # Add \"out_list\" to desired output\n",
    "        deck_type['deck_list_urls'] = url_list\n",
    "        print(f\"Finished Deck List for {deck_type['name']} in archetype {deck_type['archetype']}. There are {len(url_list)} decks.\")\n"
   ]
  },
  {
   "cell_type": "markdown",
   "metadata": {},
   "source": [
    "### Retrieve Mainboard and Sideboard for Each Retrieved Deck\n",
    "\n",
    "Each tournament/event legal deck contains two lists of cards: the mainboard and the sideboard. In the mainboard are the cards that are played in the first game of each 3 game set between players. This list does not change between matches and is dictated before the event starts. This list usually contains 60 cards (the minimum legal number of cards) to reduce variance and promote consistency.\n",
    "\n",
    "The sideboard consists of 15 cards that can be switched out for cards in the mainboard, or simply added to the played deck between games in a match. The deck played, must still have 60 cards minimum, but these cards help against different matchups, and are usually used to prevent other decks from achieving their goal or to help your deck achieve its goal."
   ]
  },
  {
   "cell_type": "code",
   "execution_count": 8,
   "metadata": {},
   "outputs": [],
   "source": [
    "def retrieve_deck_list(soup):\n",
    "    card_elements = soup.find('div').find('div').find_all('div', recursive=False)[8].find_all('div', recursive=False)[1].find_all('div', recursive=False)[2].find_all('div', recursive=False)\n",
    "\n",
    "    deck_mainboard = {}\n",
    "    deck_sideboard = {}\n",
    "\n",
    "    for division in card_elements:\n",
    "        #print(division)\n",
    "        for element in division:\n",
    "            element_class = element.get(\"class\")[0]\n",
    "            # Determine Mainboard or Sideboard based on section title\n",
    "            if element_class == \"O14\":\n",
    "                if \"SIDEBOARD\" in element.contents[0]:\n",
    "                    board = \"SIDEBOARD\"\n",
    "                else:\n",
    "                    board = \"MAINBOARD\"\n",
    "            # Adds the card and card count to the appropriate board\n",
    "            elif element_class == \"deck_line\":\n",
    "                number_of = element.contents[0]\n",
    "                card_name = element.find('span').contents[0]\n",
    "                if board == \"MAINBOARD\":\n",
    "                    deck_mainboard[card_name] = number_of\n",
    "                elif board == \"SIDEBOARD\":\n",
    "                    deck_sideboard[card_name] = number_of\n",
    "                else:\n",
    "                    raise ValueError(\"Unknown Board State\")\n",
    "            else:\n",
    "                raise ValueError(\"Unknown Class\")\n",
    "            \n",
    "    return deck_mainboard, deck_sideboard"
   ]
  },
  {
   "cell_type": "code",
   "execution_count": 9,
   "metadata": {},
   "outputs": [],
   "source": [
    "for deck_type in deck_type_list:\n",
    "    deck_list_list = []\n",
    "    deck_list_urls = deck_type['deck_list_urls']\n",
    "\n",
    "    for deck_url in deck_list_urls:\n",
    "        # BS4 object\n",
    "        page = requests.get(deck_url)\n",
    "        soup = BeautifulSoup(page.content, \"html.parser\")\n",
    "        # retrieve deck information, split into mainboard and sideboard\n",
    "        mainboard, sideboard = retrieve_deck_list(soup)\n",
    "        # save to deck_list_list as a dictionary {'mainboard': thing, 'sideboard': thing}\n",
    "        deck_list_list.append({\"mainboard\":mainboard, \"sideboard\":sideboard})\n",
    "        time.sleep(5)\n",
    "    # save deck_list_list to deck_type dictionary as [\"deck\"]\n",
    "    deck_type['deck_list'] = deck_list_list"
   ]
  },
  {
   "cell_type": "markdown",
   "metadata": {},
   "source": [
    "### Reformat Dictionaries To Pandas Tables"
   ]
  },
  {
   "cell_type": "code",
   "execution_count": 10,
   "metadata": {},
   "outputs": [
    {
     "data": {
      "text/plain": [
       "dict_keys(['name', 'archetype', 'url', 'deck_list_urls', 'deck_list'])"
      ]
     },
     "execution_count": 10,
     "metadata": {},
     "output_type": "execute_result"
    }
   ],
   "source": [
    "deck_type_list[0].keys()"
   ]
  },
  {
   "cell_type": "code",
   "execution_count": 11,
   "metadata": {},
   "outputs": [],
   "source": [
    "mainboard = []\n",
    "sideboard = []\n",
    "\n",
    "# Iterate each deck type for deck\n",
    "for deck_type in deck_type_list:\n",
    "    for i in range(len(deck_type['deck_list'])):\n",
    "\n",
    "        # base of dataframes\n",
    "        mainboard_dict = {'name':deck_type['name'], 'archetype':deck_type['archetype'], 'url': deck_type['deck_list_urls'][i]}\n",
    "        sideboard_dict = {'name':deck_type['name'], 'archetype':deck_type['archetype'], 'url': deck_type['deck_list_urls'][i]}\n",
    "\n",
    "        # set deck instance\n",
    "        mainboard_deck_list = deck_type['deck_list'][i]['mainboard']\n",
    "        sideboard_deck_list = deck_type['deck_list'][i]['sideboard']\n",
    "        url_deck_list = deck_type['deck_list_urls'][i]\n",
    "\n",
    "        # iterates on cards in deck for dictionary\n",
    "        for card in list(mainboard_deck_list.keys()):\n",
    "            mainboard_dict[card] = mainboard_deck_list[card]\n",
    "        for card in list(sideboard_deck_list.keys()):\n",
    "            sideboard_dict[card] = sideboard_deck_list[card]\n",
    "\n",
    "        mainboard.append(mainboard_dict)\n",
    "        sideboard.append(sideboard_dict)"
   ]
  },
  {
   "cell_type": "code",
   "execution_count": 12,
   "metadata": {},
   "outputs": [],
   "source": [
    "mainboard_df = pd.json_normalize(mainboard)\n",
    "sideboard_df = pd.json_normalize(sideboard)"
   ]
  },
  {
   "cell_type": "markdown",
   "metadata": {},
   "source": [
    "### Save Dataframes to CSV"
   ]
  },
  {
   "cell_type": "code",
   "execution_count": 13,
   "metadata": {},
   "outputs": [],
   "source": [
    "save_dir_path = os.path.join(os.getcwd(), \"data\", \"tournament_deck_lists\")\n",
    "\n",
    "mainboard_df.to_csv(os.path.join(save_dir_path, \"Mainboard.csv\"))\n",
    "sideboard_df.to_csv(os.path.join(save_dir_path, \"Sideboard.csv\"))"
   ]
  }
 ],
 "metadata": {
  "kernelspec": {
   "display_name": "Python 3",
   "language": "python",
   "name": "python3"
  },
  "language_info": {
   "codemirror_mode": {
    "name": "ipython",
    "version": 3
   },
   "file_extension": ".py",
   "mimetype": "text/x-python",
   "name": "python",
   "nbconvert_exporter": "python",
   "pygments_lexer": "ipython3",
   "version": "3.8.0"
  }
 },
 "nbformat": 4,
 "nbformat_minor": 2
}
