{
 "cells": [
  {
   "cell_type": "markdown",
   "metadata": {},
   "source": [
    "# Web Scraping and Observing Tournament Deck Lists\n",
    "\n",
    "MTG Goldfish is one of the premier websites for looking at deck information and tournament results. It is fast to update and provides analytic information of card amounts in decks, which speeds up the process of retrieving information for each deck."
   ]
  },
  {
   "cell_type": "markdown",
   "metadata": {},
   "source": [
    "## Install Libraries"
   ]
  },
  {
   "cell_type": "code",
   "execution_count": 4,
   "metadata": {},
   "outputs": [],
   "source": [
    "import pandas as pd\n",
    "import numpy as np\n",
    "import os\n",
    "\n",
    "import requests\n",
    "from bs4 import BeautifulSoup\n",
    "\n",
    "from selenium import webdriver\n",
    "from selenium.webdriver.support.ui import Select\n",
    "from selenium.webdriver.common.by import By\n",
    "from selenium.webdriver.support.ui import WebDriverWait\n",
    "from selenium.webdriver.support import expected_conditions as EC\n",
    "\n",
    "from contextlib import closing\n",
    "\n",
    "import time"
   ]
  },
  {
   "cell_type": "markdown",
   "metadata": {},
   "source": [
    "## Retrieve Page Destination\n",
    "\n",
    "Before getting decklist information, I first need to navigate the MTG Top 8 webpages to get to the destinations from which I will get decklist information. Once I can navigate to and collect the decklists, I will then be able to retrieve the information I want, for anlaysis."
   ]
  },
  {
   "cell_type": "markdown",
   "metadata": {},
   "source": [
    "### Grab URL for Homepage"
   ]
  },
  {
   "cell_type": "code",
   "execution_count": 78,
   "metadata": {},
   "outputs": [],
   "source": [
    "URL_MTG_GOLDFISH = \"https://www.mtggoldfish.com\"\n",
    "URL_MTG_GOLDFISH_MODERN = \"https://www.mtggoldfish.com/metagame/modern/full#paper\""
   ]
  },
  {
   "cell_type": "code",
   "execution_count": 30,
   "metadata": {},
   "outputs": [],
   "source": [
    "# Open webpage with Selenium in order to change deck meta analysis from the default 30 days, to 14 days\n",
    "with closing(webdriver.Chrome()) as driver:\n",
    "    driver.get(URL_MTG_GOLDFISH_MODERN)\n",
    "    \n",
    "    # Change meta analysis from the default previous 30 days to previous 14 days\n",
    "    select = Select(driver.find_element(By.XPATH, '//*[@id=\"metagame-re-sort-select\"]'))\n",
    "    select.select_by_value(\"14\")\n",
    "    time.sleep(10)\n",
    "\n",
    "    # Grab web page information\n",
    "    soup_page = BeautifulSoup(driver.page_source)"
   ]
  },
  {
   "cell_type": "markdown",
   "metadata": {},
   "source": [
    "## Retrieve General Deck Information and URL\n",
    "\n",
    "On the main page for modern archetypes, the tile display the archetype title, the meta percentage, and the number of decks recorded during the desired time frame. We will gather this information over the past 14 days, along with the link belonging to each archetype that lands on a page displaying the share of cards contained in decks associated with that archetype."
   ]
  },
  {
   "cell_type": "code",
   "execution_count": 35,
   "metadata": {},
   "outputs": [],
   "source": [
    "# returns a list of each archetype tile so that deck name, url, and meta share can be recorded\n",
    "archetype_tiles = soup_page.find_all(\"div\", class_=\"archetype-tile\")"
   ]
  },
  {
   "cell_type": "code",
   "execution_count": 80,
   "metadata": {},
   "outputs": [],
   "source": [
    "archetypes = []\n",
    "\n",
    "for tile in archetype_tiles:\n",
    "    title = tile.find(\"div\", class_=\"archetype-tile-title\").find(\"a\").text\n",
    "\n",
    "    archetype_statistics = tile.find(\"div\", class_=\"archetype-tile-statistic-value\").text.split(\"\\n\")\n",
    "    meta_percentage = archetype_statistics[1].replace(\"%\", \"\")\n",
    "    number_of_decks = archetype_statistics[3].replace(\"(\", \"\").replace(\")\", \"\")\n",
    "    \n",
    "    arcehtype_href = tile.find(\"span\", class_=\"deck-price-online\").find(\"a\")['href']\n",
    "    ARCHETYPE_URL = URL_MTG_GOLDFISH + arcehtype_href\n",
    "\n",
    "    archetype_dict = {\"title\": title, \"meta_percentage\": meta_percentage, \"number_of_decks\": number_of_decks, \"URL\": ARCHETYPE_URL}\n",
    "\n",
    "    archetypes.append(archetype_dict)"
   ]
  },
  {
   "cell_type": "markdown",
   "metadata": {},
   "source": [
    "## Retrieve Decklist Information\n",
    "\n",
    "Each archetype has a differences between the played decks associated with them, but a large number of similarities. The average number of each card found in decks over the whole archetype will be collected.\n",
    "\n",
    "MTG Goldfish, for each deck, will provide information regarding the average number of the card found within each deck that plays it, along with the number of decks within the archetype which play that card. By combining these two numbers, we can find the average number of the card found in decks across the entire format.\n",
    "\n",
    "This calculation will be across the sideboard and mainboard. Any companion cards will be taken note of, because they function differently from both sideboard and mainboard cards."
   ]
  },
  {
   "cell_type": "code",
   "execution_count": null,
   "metadata": {},
   "outputs": [],
   "source": []
  },
  {
   "cell_type": "code",
   "execution_count": null,
   "metadata": {},
   "outputs": [],
   "source": []
  },
  {
   "cell_type": "code",
   "execution_count": null,
   "metadata": {},
   "outputs": [],
   "source": []
  },
  {
   "cell_type": "code",
   "execution_count": null,
   "metadata": {},
   "outputs": [],
   "source": []
  },
  {
   "cell_type": "code",
   "execution_count": null,
   "metadata": {},
   "outputs": [],
   "source": []
  },
  {
   "cell_type": "code",
   "execution_count": null,
   "metadata": {},
   "outputs": [],
   "source": []
  }
 ],
 "metadata": {
  "kernelspec": {
   "display_name": "Python 3",
   "language": "python",
   "name": "python3"
  },
  "language_info": {
   "codemirror_mode": {
    "name": "ipython",
    "version": 3
   },
   "file_extension": ".py",
   "mimetype": "text/x-python",
   "name": "python",
   "nbconvert_exporter": "python",
   "pygments_lexer": "ipython3",
   "version": "3.8.0"
  }
 },
 "nbformat": 4,
 "nbformat_minor": 2
}
