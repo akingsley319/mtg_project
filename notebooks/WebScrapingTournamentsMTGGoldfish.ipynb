{
 "cells": [
  {
   "cell_type": "markdown",
   "metadata": {},
   "source": [
    "# Web Scraping and Observing Tournament Deck Lists\n",
    "\n",
    "MTG Goldfish is one of the premier websites for looking at deck information and tournament results. It is fast to update and provides analytic information of card amounts in decks, which speeds up the process of retrieving information for each deck."
   ]
  },
  {
   "cell_type": "markdown",
   "metadata": {},
   "source": [
    "## Install Libraries"
   ]
  },
  {
   "cell_type": "code",
   "execution_count": 110,
   "metadata": {},
   "outputs": [],
   "source": [
    "import pandas as pd\n",
    "import numpy as np\n",
    "import os\n",
    "\n",
    "import time\n",
    "\n",
    "# For Webscraping\n",
    "import requests\n",
    "from bs4 import BeautifulSoup\n",
    "\n",
    "from selenium import webdriver\n",
    "from selenium.webdriver.support.ui import Select\n",
    "from selenium.webdriver.common.by import By\n",
    "from selenium.webdriver.support.ui import WebDriverWait\n",
    "from selenium.webdriver.support import expected_conditions as EC\n",
    "\n",
    "from contextlib import closing\n",
    "\n",
    "# replaces accented characters with standard alphanumeric characters\n",
    "from unidecode import unidecode"
   ]
  },
  {
   "cell_type": "markdown",
   "metadata": {},
   "source": [
    "## Retrieve Page Destination\n",
    "\n",
    "Before getting decklist information, I first need to navigate the MTG Top 8 webpages to get to the destinations from which I will get decklist information. Once I can navigate to and collect the decklists, I will then be able to retrieve the information I want, for anlaysis."
   ]
  },
  {
   "cell_type": "markdown",
   "metadata": {},
   "source": [
    "### Grab URL for Homepage"
   ]
  },
  {
   "cell_type": "code",
   "execution_count": 78,
   "metadata": {},
   "outputs": [],
   "source": [
    "URL_MTG_GOLDFISH = \"https://www.mtggoldfish.com\"\n",
    "URL_MTG_GOLDFISH_MODERN = \"https://www.mtggoldfish.com/metagame/modern/full#paper\""
   ]
  },
  {
   "cell_type": "code",
   "execution_count": 30,
   "metadata": {},
   "outputs": [],
   "source": [
    "# Open webpage with Selenium in order to change deck meta analysis from the default 30 days, to 14 days\n",
    "with closing(webdriver.Chrome()) as driver:\n",
    "    driver.get(URL_MTG_GOLDFISH_MODERN)\n",
    "    \n",
    "    # Change meta analysis from the default previous 30 days to previous 14 days\n",
    "    select = Select(driver.find_element(By.XPATH, '//*[@id=\"metagame-re-sort-select\"]'))\n",
    "    select.select_by_value(\"14\")\n",
    "    time.sleep(10)\n",
    "\n",
    "    # Grab web page information\n",
    "    soup_page = BeautifulSoup(driver.page_source)"
   ]
  },
  {
   "cell_type": "markdown",
   "metadata": {},
   "source": [
    "## Retrieve General Deck Information and URL\n",
    "\n",
    "On the main page for modern archetypes, the tile display the archetype title, the meta percentage, and the number of decks recorded during the desired time frame. We will gather this information over the past 14 days, along with the link belonging to each archetype that lands on a page displaying the share of cards contained in decks associated with that archetype."
   ]
  },
  {
   "cell_type": "code",
   "execution_count": 35,
   "metadata": {},
   "outputs": [],
   "source": [
    "# returns a list of each archetype tile so that deck name, url, and meta share can be recorded\n",
    "archetype_tiles = soup_page.find_all(\"div\", class_=\"archetype-tile\")"
   ]
  },
  {
   "cell_type": "code",
   "execution_count": 80,
   "metadata": {},
   "outputs": [],
   "source": [
    "archetypes = []\n",
    "\n",
    "for tile in archetype_tiles:\n",
    "    title = tile.find(\"div\", class_=\"archetype-tile-title\").find(\"a\").text\n",
    "\n",
    "    archetype_statistics = tile.find(\"div\", class_=\"archetype-tile-statistic-value\").text.split(\"\\n\")\n",
    "    meta_percentage = archetype_statistics[1].replace(\"%\", \"\")\n",
    "    number_of_decks = archetype_statistics[3].replace(\"(\", \"\").replace(\")\", \"\")\n",
    "    \n",
    "    arcehtype_href = tile.find(\"span\", class_=\"deck-price-online\").find(\"a\")['href']\n",
    "    ARCHETYPE_URL = URL_MTG_GOLDFISH + arcehtype_href\n",
    "\n",
    "    archetype_dict = {\"title\": title, \"meta_percentage\": meta_percentage, \"number_of_decks\": number_of_decks, \"URL\": ARCHETYPE_URL}\n",
    "\n",
    "    archetypes.append(archetype_dict)"
   ]
  },
  {
   "cell_type": "markdown",
   "metadata": {},
   "source": [
    "## Retrieve Decklist Information\n",
    "\n",
    "Each archetype has a differences between the played decks associated with them, but a large number of similarities. The average number of each card found in decks over the whole archetype will be collected.\n",
    "\n",
    "MTG Goldfish, for each deck, will provide information regarding the average number of the card found within each deck that plays it, along with the number of decks within the archetype which play that card. By combining these two numbers, we can find the average number of the card found in decks across the entire format.\n",
    "\n",
    "This calculation will be across the sideboard and mainboard. Any companion cards will be taken note of, because they function differently from both sideboard and mainboard cards."
   ]
  },
  {
   "cell_type": "code",
   "execution_count": 108,
   "metadata": {},
   "outputs": [],
   "source": [
    "# Takes archetype breakdown container and returns list of each card in the container and its prevalence in all decks of the archetype\n",
    "def filter_cards(container):\n",
    "    out = []\n",
    "    \n",
    "    cards = container.find_all(\"div\", class_=\"spoiler-card\")\n",
    "    for card in cards:\n",
    "        card_name = unidecode(card.find(\"span\", class_=\"price-card-invisible-label\").text)\n",
    "        card_prevalence_text = card.find(\"p\", class_=\"archetype-breakdown-featured-card-text\").text.split(\" \")\n",
    "\n",
    "        card_number = float(card_prevalence_text[0])\n",
    "        card_deck_prevalence = float(card_prevalence_text[2].replace(\"%\", \"\"))\n",
    "        card_share = card_number * card_deck_prevalence / 100\n",
    "\n",
    "        out.append((card_name, card_share))\n",
    "\n",
    "    return out"
   ]
  },
  {
   "cell_type": "code",
   "execution_count": 115,
   "metadata": {},
   "outputs": [
    {
     "name": "stdout",
     "output_type": "stream",
     "text": [
      "Finished Deck List for Rakdos Scam. There are 90 decks for 10.6% of the meta.\n",
      "Finished Deck List for Living End. There are 90 decks for 10.6% of the meta.\n",
      "Finished Deck List for Yawgmoth. There are 54 decks for 6.4% of the meta.\n",
      "Finished Deck List for Amulet Titan. There are 53 decks for 6.2% of the meta.\n",
      "Finished Deck List for Domain Zoo. There are 45 decks for 5.3% of the meta.\n",
      "Finished Deck List for Ruby Storm. There are 33 decks for 3.9% of the meta.\n",
      "Finished Deck List for Azorius Control. There are 26 decks for 3.1% of the meta.\n",
      "Finished Deck List for Bant Nadu. There are 26 decks for 3.1% of the meta.\n",
      "Finished Deck List for Boros Burn. There are 25 decks for 3.0% of the meta.\n",
      "Finished Deck List for Mill. There are 22 decks for 2.6% of the meta.\n",
      "Finished Deck List for Temur Prowess. There are 22 decks for 2.6% of the meta.\n",
      "Finished Deck List for Mono-Black Scam. There are 17 decks for 2.0% of the meta.\n",
      "Finished Deck List for Indomitable Creativity. There are 16 decks for 1.9% of the meta.\n",
      "Finished Deck List for Murktide Regent. There are 15 decks for 1.8% of the meta.\n",
      "Finished Deck List for Izzet Control. There are 14 decks for 1.6% of the meta.\n",
      "Finished Deck List for Tron. There are 14 decks for 1.6% of the meta.\n",
      "Finished Deck List for Boros Prowess. There are 13 decks for 1.5% of the meta.\n",
      "Finished Deck List for Eldrazi. There are 13 decks for 1.5% of the meta.\n",
      "Finished Deck List for Hardened Scales. There are 12 decks for 1.4% of the meta.\n",
      "Finished Deck List for Death's Shadow. There are 12 decks for 1.4% of the meta.\n",
      "Finished Deck List for 4/5c Omnath. There are 12 decks for 1.4% of the meta.\n",
      "Finished Deck List for Merfolk. There are 11 decks for 1.3% of the meta.\n",
      "Finished Deck List for Goryo's Vengeance. There are 11 decks for 1.3% of the meta.\n",
      "Finished Deck List for Crab Vine. There are 11 decks for 1.3% of the meta.\n",
      "Finished Deck List for Mono-White Midrange. There are 11 decks for 1.3% of the meta.\n",
      "Finished Deck List for Selesnya Lifegain. There are 11 decks for 1.3% of the meta.\n",
      "Finished Deck List for Jund Saga. There are 10 decks for 1.2% of the meta.\n",
      "Finished Deck List for Boros Energy. There are 8 decks for 0.9% of the meta.\n",
      "Finished Deck List for Mono-Black Coffers. There are 7 decks for 0.8% of the meta.\n",
      "Finished Deck List for Affinity. There are 7 decks for 0.8% of the meta.\n",
      "Finished Deck List for Mono-Green Tron. There are 6 decks for 0.7% of the meta.\n",
      "Finished Deck List for Jeskai Control. There are 5 decks for 0.6% of the meta.\n",
      "Finished Deck List for Crashing Footfalls. There are 5 decks for 0.6% of the meta.\n",
      "Finished Deck List for Dimir Scam. There are 5 decks for 0.6% of the meta.\n",
      "Finished Deck List for Hammer Time. There are 4 decks for 0.5% of the meta.\n",
      "Finished Deck List for 4c Midrange. There are 4 decks for 0.5% of the meta.\n",
      "Finished Deck List for Simic Nadu. There are 4 decks for 0.5% of the meta.\n",
      "Finished Deck List for Thopter Combo. There are 4 decks for 0.5% of the meta.\n",
      "Finished Deck List for Mono-White Hideaway. There are 4 decks for 0.5% of the meta.\n",
      "Finished Deck List for Orzhov Midrange. There are 4 decks for 0.5% of the meta.\n",
      "Finished Deck List for Orzhov Scam. There are 4 decks for 0.5% of the meta.\n",
      "Finished Deck List for Boros Midrange. There are 3 decks for 0.4% of the meta.\n",
      "Finished Deck List for Mono-Red Burn. There are 3 decks for 0.4% of the meta.\n",
      "Finished Deck List for Belcher. There are 3 decks for 0.4% of the meta.\n",
      "Finished Deck List for Mono-White Legends Aggro. There are 3 decks for 0.4% of the meta.\n",
      "Finished Deck List for Gruul Breach. There are 3 decks for 0.4% of the meta.\n",
      "Finished Deck List for Bant Control. There are 3 decks for 0.4% of the meta.\n",
      "Finished Deck List for Kuldotha Aggro. There are 3 decks for 0.4% of the meta.\n",
      "Finished Deck List for Living End. There are 3 decks for 0.4% of the meta.\n",
      "Finished Deck List for Esper Control. There are 3 decks for 0.4% of the meta.\n",
      "Finished Deck List for Rakdos Midrange. There are 2 decks for 0.2% of the meta.\n",
      "Finished Deck List for Blue-Red Control. There are 2 decks for 0.2% of the meta.\n",
      "Finished Deck List for Dredge. There are 2 decks for 0.2% of the meta.\n",
      "Finished Deck List for Mono-Black Midrange. There are 2 decks for 0.2% of the meta.\n",
      "Finished Deck List for Golgari Coffers. There are 2 decks for 0.2% of the meta.\n",
      "Finished Deck List for Jund. There are 2 decks for 0.2% of the meta.\n",
      "Finished Deck List for Gruul Prowess. There are 2 decks for 0.2% of the meta.\n",
      "Finished Deck List for Rakdos Burn. There are 2 decks for 0.2% of the meta.\n",
      "Finished Deck List for Taking Turns. There are 2 decks for 0.2% of the meta.\n",
      "Finished Deck List for Wilderness Reclamation. There are 2 decks for 0.2% of the meta.\n"
     ]
    }
   ],
   "source": [
    "for i in range(len(archetypes)):\n",
    "    mainboard = []\n",
    "    sideboard = []\n",
    "    companion = []\n",
    "\n",
    "    archetype = archetypes[i]\n",
    "    URL = archetype[\"URL\"]\n",
    "\n",
    "    page = requests.get(URL)\n",
    "    soup_page = BeautifulSoup(page.content, \"html.parser\")\n",
    "\n",
    "    spoiler_containers = soup_page.find(\"div\", class_=\"deck-archetype-breakdown\").find_all(\"div\", class_=\"spoiler-card-container\")\n",
    "\n",
    "    for container in spoiler_containers:\n",
    "        container_cards = filter_cards(container)\n",
    "        container_type = container.find('h3').text\n",
    "        if container_type == \"Companion\":\n",
    "            for card in container_cards:\n",
    "                companion.append(card)\n",
    "        elif container_type == \"Sideboard\":\n",
    "            for card in container_cards:\n",
    "                sideboard.append(card)\n",
    "        else:\n",
    "            for card in container_cards:\n",
    "                mainboard.append(card)\n",
    "\n",
    "    archetypes[i]['mainboard'] = mainboard\n",
    "    archetypes[i]['sideboard'] = sideboard\n",
    "    archetypes[i]['companion'] = companion\n",
    "\n",
    "    title = archetypes[i][\"title\"]\n",
    "    number_of_decks = archetypes[i][\"number_of_decks\"]\n",
    "    meta_percentage = archetypes[i][\"meta_percentage\"]\n",
    "    print(f\"Finished Deck List for {title}. There are {number_of_decks} decks for {meta_percentage}% of the meta.\")\n",
    "    time.sleep(5)"
   ]
  },
  {
   "cell_type": "markdown",
   "metadata": {},
   "source": [
    "## Organize Data\n",
    "\n",
    "Before the data can be used, it is best to organize the data, so that it can be used properly while ensuring that the minimum needed information is passed along. This will ensure faster load times and efficient use of memory."
   ]
  },
  {
   "cell_type": "code",
   "execution_count": null,
   "metadata": {},
   "outputs": [],
   "source": []
  },
  {
   "cell_type": "code",
   "execution_count": null,
   "metadata": {},
   "outputs": [],
   "source": []
  },
  {
   "cell_type": "code",
   "execution_count": null,
   "metadata": {},
   "outputs": [],
   "source": []
  },
  {
   "cell_type": "code",
   "execution_count": null,
   "metadata": {},
   "outputs": [],
   "source": []
  }
 ],
 "metadata": {
  "kernelspec": {
   "display_name": "Python 3",
   "language": "python",
   "name": "python3"
  },
  "language_info": {
   "codemirror_mode": {
    "name": "ipython",
    "version": 3
   },
   "file_extension": ".py",
   "mimetype": "text/x-python",
   "name": "python",
   "nbconvert_exporter": "python",
   "pygments_lexer": "ipython3",
   "version": "3.8.0"
  }
 },
 "nbformat": 4,
 "nbformat_minor": 2
}
