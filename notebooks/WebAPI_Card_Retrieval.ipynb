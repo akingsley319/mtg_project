{
 "cells": [
  {
   "cell_type": "markdown",
   "metadata": {},
   "source": [
    "# Magic the Gathering (MTG) Card and Set Analysis\n",
    "\n",
    "Magic the Gathering (MTG) is a collectible card game with a thriving competitive scene that is enjoyed across a variety of formats and all over the globe. From collaborations with Lord of the Rings, Doctor Who, and Dungeons and Dragons to Post Malone purchasing a one-of-a-kind card for $2 million, MTG is achieving unprecented success over its long history.\n",
    "\n",
    "MTG first released its \"Alpha\" set of cards in 1993, which has resulted in a large number of cards released since. This effect is compounded by the frequency of releases as well, usually having multiple sets released in a year. This results in there being nearly 77000 cards released and playable in at least one tournament format at the time of this analysis, with the next set being slowly revealed before its release."
   ]
  },
  {
   "cell_type": "markdown",
   "metadata": {},
   "source": [
    "## Project Scope\n",
    "\n",
    "This project seeks to provide a dashboard and analysis for cards and sets that are legal in at least one official format supported by Wizards of the Cost, the company which currently owns the MTG brand. Cards will be retrieved through their official API, using mtgsdk (https://github.com/MagicTheGathering/mtg-sdk-python)."
   ]
  },
  {
   "cell_type": "markdown",
   "metadata": {},
   "source": [
    "### Download Packages"
   ]
  },
  {
   "cell_type": "code",
   "execution_count": 1,
   "metadata": {},
   "outputs": [],
   "source": [
    "import os\n",
    "import pandas as pd\n",
    "import numpy as np\n",
    "\n",
    "from mtgsdk import Card, Set"
   ]
  },
  {
   "cell_type": "markdown",
   "metadata": {},
   "source": [
    "## 1. Retrieve Data"
   ]
  },
  {
   "cell_type": "code",
   "execution_count": 2,
   "metadata": {},
   "outputs": [],
   "source": [
    "# This will convert the Cards and Sets classes retrieved into a pandas dataframe\n",
    "def class_to_pandas(in_class):\n",
    "    list_obj = [obj.__dict__ for obj in in_class]\n",
    "    return pd.DataFrame(list_obj), list_obj"
   ]
  },
  {
   "cell_type": "code",
   "execution_count": 3,
   "metadata": {},
   "outputs": [
    {
     "name": "stderr",
     "output_type": "stream",
     "text": [
      "C:\\Users\\cubs1\\AppData\\Local\\Temp\\ipykernel_26076\\539325645.py:5: DtypeWarning: Columns (16,19) have mixed types. Specify dtype option on import or set low_memory=False.\n",
      "  cards_df = pd.read_csv(cards_file_path)\n"
     ]
    }
   ],
   "source": [
    "cards_file_path = os.path.join(os.getcwd(), \"data\", \"cards.csv\")\n",
    "cards_data_saved = os.path.isfile(cards_file_path)\n",
    "\n",
    "if cards_data_saved:\n",
    "    cards_df = pd.read_csv(cards_file_path)\n",
    "elif not cards_data_saved:\n",
    "    cards = Card.all()\n",
    "    cards_df, cards_class = class_to_pandas(cards)\n",
    "    cards_df.to_csv(cards_file_path)\n",
    "else:\n",
    "    raise ValueError(\"cards_data_saved variable is not Bool\")\n",
    "    "
   ]
  },
  {
   "cell_type": "code",
   "execution_count": 4,
   "metadata": {},
   "outputs": [],
   "source": [
    "sets_file_path = os.path.join(os.getcwd(), \"data\", \"sets.csv\")\n",
    "sets_data_saved = os.path.isfile(sets_file_path)\n",
    "\n",
    "if sets_data_saved:\n",
    "    sets_df = pd.read_csv(sets_file_path)\n",
    "elif not sets_data_saved:\n",
    "    sets = Set.all()\n",
    "    sets_df, sets_class = class_to_pandas(sets)\n",
    "    sets_df.to_csv(sets_file_path)\n",
    "else:\n",
    "    raise ValueError(\"sets_data_saved variable is not Bool\")"
   ]
  },
  {
   "cell_type": "markdown",
   "metadata": {},
   "source": [
    "## 2. Data Set Information"
   ]
  },
  {
   "cell_type": "markdown",
   "metadata": {},
   "source": [
    "### Show Top 5 Rows\n",
    "\n",
    "Interestingly, there does seem to be duplicate rows in the cards_df. However, I also see missing information that is unique between those rows. While the \"id\" might differ, there generally is no change in cards after their card name is established."
   ]
  },
  {
   "cell_type": "code",
   "execution_count": 5,
   "metadata": {},
   "outputs": [
    {
     "data": {
      "text/html": [
       "<div>\n",
       "<style scoped>\n",
       "    .dataframe tbody tr th:only-of-type {\n",
       "        vertical-align: middle;\n",
       "    }\n",
       "\n",
       "    .dataframe tbody tr th {\n",
       "        vertical-align: top;\n",
       "    }\n",
       "\n",
       "    .dataframe thead th {\n",
       "        text-align: right;\n",
       "    }\n",
       "</style>\n",
       "<table border=\"1\" class=\"dataframe\">\n",
       "  <thead>\n",
       "    <tr style=\"text-align: right;\">\n",
       "      <th></th>\n",
       "      <th>Unnamed: 0</th>\n",
       "      <th>name</th>\n",
       "      <th>layout</th>\n",
       "      <th>mana_cost</th>\n",
       "      <th>cmc</th>\n",
       "      <th>colors</th>\n",
       "      <th>color_identity</th>\n",
       "      <th>names</th>\n",
       "      <th>type</th>\n",
       "      <th>supertypes</th>\n",
       "      <th>...</th>\n",
       "      <th>original_text</th>\n",
       "      <th>original_type</th>\n",
       "      <th>source</th>\n",
       "      <th>image_url</th>\n",
       "      <th>set</th>\n",
       "      <th>set_name</th>\n",
       "      <th>id</th>\n",
       "      <th>legalities</th>\n",
       "      <th>rulings</th>\n",
       "      <th>foreign_names</th>\n",
       "    </tr>\n",
       "  </thead>\n",
       "  <tbody>\n",
       "    <tr>\n",
       "      <th>0</th>\n",
       "      <td>0</td>\n",
       "      <td>Ancestor's Chosen</td>\n",
       "      <td>normal</td>\n",
       "      <td>{5}{W}{W}</td>\n",
       "      <td>7.0</td>\n",
       "      <td>['W']</td>\n",
       "      <td>['W']</td>\n",
       "      <td>NaN</td>\n",
       "      <td>Creature — Human Cleric</td>\n",
       "      <td>NaN</td>\n",
       "      <td>...</td>\n",
       "      <td>First strike (This creature deals combat damag...</td>\n",
       "      <td>Creature - Human Cleric</td>\n",
       "      <td>NaN</td>\n",
       "      <td>http://gatherer.wizards.com/Handlers/Image.ash...</td>\n",
       "      <td>10E</td>\n",
       "      <td>Tenth Edition</td>\n",
       "      <td>5f8287b1-5bb6-5f4c-ad17-316a40d5bb0c</td>\n",
       "      <td>[{'format': 'Commander', 'legality': 'Legal'},...</td>\n",
       "      <td>NaN</td>\n",
       "      <td>[{'name': 'Ausgewählter der Ahnfrau', 'text': ...</td>\n",
       "    </tr>\n",
       "    <tr>\n",
       "      <th>1</th>\n",
       "      <td>1</td>\n",
       "      <td>Ancestor's Chosen</td>\n",
       "      <td>normal</td>\n",
       "      <td>{5}{W}{W}</td>\n",
       "      <td>7.0</td>\n",
       "      <td>['W']</td>\n",
       "      <td>['W']</td>\n",
       "      <td>NaN</td>\n",
       "      <td>Creature — Human Cleric</td>\n",
       "      <td>NaN</td>\n",
       "      <td>...</td>\n",
       "      <td>NaN</td>\n",
       "      <td>NaN</td>\n",
       "      <td>NaN</td>\n",
       "      <td>NaN</td>\n",
       "      <td>10E</td>\n",
       "      <td>Tenth Edition</td>\n",
       "      <td>b7c19924-b4bf-56fc-aa73-f586e940bd42</td>\n",
       "      <td>[{'format': 'Commander', 'legality': 'Legal'},...</td>\n",
       "      <td>NaN</td>\n",
       "      <td>NaN</td>\n",
       "    </tr>\n",
       "    <tr>\n",
       "      <th>2</th>\n",
       "      <td>2</td>\n",
       "      <td>Angel of Mercy</td>\n",
       "      <td>normal</td>\n",
       "      <td>{4}{W}</td>\n",
       "      <td>5.0</td>\n",
       "      <td>['W']</td>\n",
       "      <td>['W']</td>\n",
       "      <td>NaN</td>\n",
       "      <td>Creature — Angel</td>\n",
       "      <td>NaN</td>\n",
       "      <td>...</td>\n",
       "      <td>Flying (This creature can't be blocked except ...</td>\n",
       "      <td>Creature - Angel</td>\n",
       "      <td>NaN</td>\n",
       "      <td>http://gatherer.wizards.com/Handlers/Image.ash...</td>\n",
       "      <td>10E</td>\n",
       "      <td>Tenth Edition</td>\n",
       "      <td>57aaebc1-850c-503d-9f6e-bb8d00d8bf7c</td>\n",
       "      <td>[{'format': 'Commander', 'legality': 'Legal'},...</td>\n",
       "      <td>NaN</td>\n",
       "      <td>[{'name': 'Engel der Gnade', 'text': 'Fliegend...</td>\n",
       "    </tr>\n",
       "    <tr>\n",
       "      <th>3</th>\n",
       "      <td>3</td>\n",
       "      <td>Angel of Mercy</td>\n",
       "      <td>normal</td>\n",
       "      <td>{4}{W}</td>\n",
       "      <td>5.0</td>\n",
       "      <td>['W']</td>\n",
       "      <td>['W']</td>\n",
       "      <td>NaN</td>\n",
       "      <td>Creature — Angel</td>\n",
       "      <td>NaN</td>\n",
       "      <td>...</td>\n",
       "      <td>NaN</td>\n",
       "      <td>NaN</td>\n",
       "      <td>NaN</td>\n",
       "      <td>NaN</td>\n",
       "      <td>10E</td>\n",
       "      <td>Tenth Edition</td>\n",
       "      <td>8fd4e2eb-3eb4-50ea-856b-ef638fa47f8a</td>\n",
       "      <td>[{'format': 'Commander', 'legality': 'Legal'},...</td>\n",
       "      <td>NaN</td>\n",
       "      <td>NaN</td>\n",
       "    </tr>\n",
       "    <tr>\n",
       "      <th>4</th>\n",
       "      <td>4</td>\n",
       "      <td>Angelic Blessing</td>\n",
       "      <td>normal</td>\n",
       "      <td>{2}{W}</td>\n",
       "      <td>3.0</td>\n",
       "      <td>['W']</td>\n",
       "      <td>['W']</td>\n",
       "      <td>NaN</td>\n",
       "      <td>Sorcery</td>\n",
       "      <td>NaN</td>\n",
       "      <td>...</td>\n",
       "      <td>Target creature gets +3/+3 and gains flying un...</td>\n",
       "      <td>Sorcery</td>\n",
       "      <td>NaN</td>\n",
       "      <td>http://gatherer.wizards.com/Handlers/Image.ash...</td>\n",
       "      <td>10E</td>\n",
       "      <td>Tenth Edition</td>\n",
       "      <td>55bd38ca-dc73-5c06-8f80-a6ddd2f44382</td>\n",
       "      <td>[{'format': 'Commander', 'legality': 'Legal'},...</td>\n",
       "      <td>NaN</td>\n",
       "      <td>[{'name': 'Himmlischer Segen', 'text': 'Eine K...</td>\n",
       "    </tr>\n",
       "  </tbody>\n",
       "</table>\n",
       "<p>5 rows × 40 columns</p>\n",
       "</div>"
      ],
      "text/plain": [
       "   Unnamed: 0               name  layout  mana_cost  cmc colors  \\\n",
       "0           0  Ancestor's Chosen  normal  {5}{W}{W}  7.0  ['W']   \n",
       "1           1  Ancestor's Chosen  normal  {5}{W}{W}  7.0  ['W']   \n",
       "2           2     Angel of Mercy  normal     {4}{W}  5.0  ['W']   \n",
       "3           3     Angel of Mercy  normal     {4}{W}  5.0  ['W']   \n",
       "4           4   Angelic Blessing  normal     {2}{W}  3.0  ['W']   \n",
       "\n",
       "  color_identity  names                     type supertypes  ...  \\\n",
       "0          ['W']    NaN  Creature — Human Cleric        NaN  ...   \n",
       "1          ['W']    NaN  Creature — Human Cleric        NaN  ...   \n",
       "2          ['W']    NaN         Creature — Angel        NaN  ...   \n",
       "3          ['W']    NaN         Creature — Angel        NaN  ...   \n",
       "4          ['W']    NaN                  Sorcery        NaN  ...   \n",
       "\n",
       "                                       original_text            original_type  \\\n",
       "0  First strike (This creature deals combat damag...  Creature - Human Cleric   \n",
       "1                                                NaN                      NaN   \n",
       "2  Flying (This creature can't be blocked except ...         Creature - Angel   \n",
       "3                                                NaN                      NaN   \n",
       "4  Target creature gets +3/+3 and gains flying un...                  Sorcery   \n",
       "\n",
       "  source                                          image_url  set  \\\n",
       "0    NaN  http://gatherer.wizards.com/Handlers/Image.ash...  10E   \n",
       "1    NaN                                                NaN  10E   \n",
       "2    NaN  http://gatherer.wizards.com/Handlers/Image.ash...  10E   \n",
       "3    NaN                                                NaN  10E   \n",
       "4    NaN  http://gatherer.wizards.com/Handlers/Image.ash...  10E   \n",
       "\n",
       "        set_name                                    id  \\\n",
       "0  Tenth Edition  5f8287b1-5bb6-5f4c-ad17-316a40d5bb0c   \n",
       "1  Tenth Edition  b7c19924-b4bf-56fc-aa73-f586e940bd42   \n",
       "2  Tenth Edition  57aaebc1-850c-503d-9f6e-bb8d00d8bf7c   \n",
       "3  Tenth Edition  8fd4e2eb-3eb4-50ea-856b-ef638fa47f8a   \n",
       "4  Tenth Edition  55bd38ca-dc73-5c06-8f80-a6ddd2f44382   \n",
       "\n",
       "                                          legalities rulings  \\\n",
       "0  [{'format': 'Commander', 'legality': 'Legal'},...     NaN   \n",
       "1  [{'format': 'Commander', 'legality': 'Legal'},...     NaN   \n",
       "2  [{'format': 'Commander', 'legality': 'Legal'},...     NaN   \n",
       "3  [{'format': 'Commander', 'legality': 'Legal'},...     NaN   \n",
       "4  [{'format': 'Commander', 'legality': 'Legal'},...     NaN   \n",
       "\n",
       "                                       foreign_names  \n",
       "0  [{'name': 'Ausgewählter der Ahnfrau', 'text': ...  \n",
       "1                                                NaN  \n",
       "2  [{'name': 'Engel der Gnade', 'text': 'Fliegend...  \n",
       "3                                                NaN  \n",
       "4  [{'name': 'Himmlischer Segen', 'text': 'Eine K...  \n",
       "\n",
       "[5 rows x 40 columns]"
      ]
     },
     "execution_count": 5,
     "metadata": {},
     "output_type": "execute_result"
    }
   ],
   "source": [
    "cards_df.head(5)"
   ]
  },
  {
   "cell_type": "code",
   "execution_count": 6,
   "metadata": {},
   "outputs": [
    {
     "data": {
      "text/html": [
       "<div>\n",
       "<style scoped>\n",
       "    .dataframe tbody tr th:only-of-type {\n",
       "        vertical-align: middle;\n",
       "    }\n",
       "\n",
       "    .dataframe tbody tr th {\n",
       "        vertical-align: top;\n",
       "    }\n",
       "\n",
       "    .dataframe thead th {\n",
       "        text-align: right;\n",
       "    }\n",
       "</style>\n",
       "<table border=\"1\" class=\"dataframe\">\n",
       "  <thead>\n",
       "    <tr style=\"text-align: right;\">\n",
       "      <th></th>\n",
       "      <th>Unnamed: 0</th>\n",
       "      <th>code</th>\n",
       "      <th>name</th>\n",
       "      <th>type</th>\n",
       "      <th>border</th>\n",
       "      <th>mkm_id</th>\n",
       "      <th>mkm_name</th>\n",
       "      <th>release_date</th>\n",
       "      <th>gatherer_code</th>\n",
       "      <th>magic_cards_info_code</th>\n",
       "      <th>booster</th>\n",
       "      <th>old_code</th>\n",
       "      <th>block</th>\n",
       "      <th>online_only</th>\n",
       "    </tr>\n",
       "  </thead>\n",
       "  <tbody>\n",
       "    <tr>\n",
       "      <th>0</th>\n",
       "      <td>0</td>\n",
       "      <td>10E</td>\n",
       "      <td>Tenth Edition</td>\n",
       "      <td>core</td>\n",
       "      <td>NaN</td>\n",
       "      <td>NaN</td>\n",
       "      <td>NaN</td>\n",
       "      <td>2007-07-13</td>\n",
       "      <td>NaN</td>\n",
       "      <td>NaN</td>\n",
       "      <td>['rare', 'uncommon', 'uncommon', 'uncommon', '...</td>\n",
       "      <td>NaN</td>\n",
       "      <td>Core Set</td>\n",
       "      <td>False</td>\n",
       "    </tr>\n",
       "    <tr>\n",
       "      <th>1</th>\n",
       "      <td>1</td>\n",
       "      <td>2ED</td>\n",
       "      <td>Unlimited Edition</td>\n",
       "      <td>core</td>\n",
       "      <td>NaN</td>\n",
       "      <td>NaN</td>\n",
       "      <td>NaN</td>\n",
       "      <td>1993-12-01</td>\n",
       "      <td>NaN</td>\n",
       "      <td>NaN</td>\n",
       "      <td>['rare', 'uncommon', 'uncommon', 'uncommon', '...</td>\n",
       "      <td>NaN</td>\n",
       "      <td>Core Set</td>\n",
       "      <td>False</td>\n",
       "    </tr>\n",
       "    <tr>\n",
       "      <th>2</th>\n",
       "      <td>2</td>\n",
       "      <td>2X2</td>\n",
       "      <td>Double Masters 2022</td>\n",
       "      <td>masters</td>\n",
       "      <td>NaN</td>\n",
       "      <td>NaN</td>\n",
       "      <td>NaN</td>\n",
       "      <td>2022-07-08</td>\n",
       "      <td>NaN</td>\n",
       "      <td>NaN</td>\n",
       "      <td>NaN</td>\n",
       "      <td>NaN</td>\n",
       "      <td>NaN</td>\n",
       "      <td>False</td>\n",
       "    </tr>\n",
       "    <tr>\n",
       "      <th>3</th>\n",
       "      <td>3</td>\n",
       "      <td>2XM</td>\n",
       "      <td>Double Masters</td>\n",
       "      <td>masters</td>\n",
       "      <td>NaN</td>\n",
       "      <td>NaN</td>\n",
       "      <td>NaN</td>\n",
       "      <td>2020-08-07</td>\n",
       "      <td>NaN</td>\n",
       "      <td>NaN</td>\n",
       "      <td>['uncommon', 'uncommon', 'uncommon', 'common',...</td>\n",
       "      <td>NaN</td>\n",
       "      <td>NaN</td>\n",
       "      <td>False</td>\n",
       "    </tr>\n",
       "    <tr>\n",
       "      <th>4</th>\n",
       "      <td>4</td>\n",
       "      <td>30A</td>\n",
       "      <td>30th Anniversary Edition</td>\n",
       "      <td>memorabilia</td>\n",
       "      <td>NaN</td>\n",
       "      <td>NaN</td>\n",
       "      <td>NaN</td>\n",
       "      <td>2022-11-28</td>\n",
       "      <td>NaN</td>\n",
       "      <td>NaN</td>\n",
       "      <td>NaN</td>\n",
       "      <td>NaN</td>\n",
       "      <td>NaN</td>\n",
       "      <td>False</td>\n",
       "    </tr>\n",
       "  </tbody>\n",
       "</table>\n",
       "</div>"
      ],
      "text/plain": [
       "   Unnamed: 0 code                      name         type  border  mkm_id  \\\n",
       "0           0  10E             Tenth Edition         core     NaN     NaN   \n",
       "1           1  2ED         Unlimited Edition         core     NaN     NaN   \n",
       "2           2  2X2       Double Masters 2022      masters     NaN     NaN   \n",
       "3           3  2XM            Double Masters      masters     NaN     NaN   \n",
       "4           4  30A  30th Anniversary Edition  memorabilia     NaN     NaN   \n",
       "\n",
       "   mkm_name release_date  gatherer_code  magic_cards_info_code  \\\n",
       "0       NaN   2007-07-13            NaN                    NaN   \n",
       "1       NaN   1993-12-01            NaN                    NaN   \n",
       "2       NaN   2022-07-08            NaN                    NaN   \n",
       "3       NaN   2020-08-07            NaN                    NaN   \n",
       "4       NaN   2022-11-28            NaN                    NaN   \n",
       "\n",
       "                                             booster  old_code     block  \\\n",
       "0  ['rare', 'uncommon', 'uncommon', 'uncommon', '...       NaN  Core Set   \n",
       "1  ['rare', 'uncommon', 'uncommon', 'uncommon', '...       NaN  Core Set   \n",
       "2                                                NaN       NaN       NaN   \n",
       "3  ['uncommon', 'uncommon', 'uncommon', 'common',...       NaN       NaN   \n",
       "4                                                NaN       NaN       NaN   \n",
       "\n",
       "   online_only  \n",
       "0        False  \n",
       "1        False  \n",
       "2        False  \n",
       "3        False  \n",
       "4        False  "
      ]
     },
     "execution_count": 6,
     "metadata": {},
     "output_type": "execute_result"
    }
   ],
   "source": [
    "sets_df.head(5)"
   ]
  },
  {
   "cell_type": "markdown",
   "metadata": {},
   "source": [
    "### Shape"
   ]
  },
  {
   "cell_type": "code",
   "execution_count": 7,
   "metadata": {},
   "outputs": [
    {
     "data": {
      "text/plain": [
       "(81967, 40)"
      ]
     },
     "execution_count": 7,
     "metadata": {},
     "output_type": "execute_result"
    }
   ],
   "source": [
    "cards_df.shape"
   ]
  },
  {
   "cell_type": "code",
   "execution_count": 8,
   "metadata": {},
   "outputs": [
    {
     "data": {
      "text/plain": [
       "(711, 14)"
      ]
     },
     "execution_count": 8,
     "metadata": {},
     "output_type": "execute_result"
    }
   ],
   "source": [
    "sets_df.shape"
   ]
  },
  {
   "cell_type": "markdown",
   "metadata": {},
   "source": [
    "### Columns"
   ]
  },
  {
   "cell_type": "code",
   "execution_count": 9,
   "metadata": {},
   "outputs": [
    {
     "name": "stdout",
     "output_type": "stream",
     "text": [
      "Card Columns are:\n",
      "    Unnamed: 0, name, layout, mana_cost, cmc, colors, color_identity, names, type, supertypes, subtypes, types, rarity, text, flavor, artist, number, power, toughness, loyalty, multiverse_id, variations, watermark, border, timeshifted, hand, life, release_date, starter, printings, original_text, original_type, source, image_url, set, set_name, id, legalities, rulings, foreign_names\n",
      "\n",
      "Set Columns are:\n",
      "    Unnamed: 0, code, name, type, border, mkm_id, mkm_name, release_date, gatherer_code, magic_cards_info_code, booster, old_code, block, online_only\n"
     ]
    }
   ],
   "source": [
    "card_string = \", \".join(list(cards_df.columns))\n",
    "set_string = \", \".join(list(sets_df.columns))\n",
    "\n",
    "print(f\"Card Columns are:\\n    {card_string}\\n\")\n",
    "print(f\"Set Columns are:\\n    {set_string}\")"
   ]
  },
  {
   "cell_type": "markdown",
   "metadata": {},
   "source": [
    "### Missing Values\n",
    "\n",
    "It is important to keep in mind that there will be missing values in certain columns. \"power\" and \"toughness\" are two examples, because there are many spells that do not have these attributes, including spells with the \"types\" of \"Sorcery\" and \"Instant\". However, we already saw that there were duplicates when looking at the head. This is more so to check if there is an identifying feature that can be used to combine the duplicate rows while not losing any information."
   ]
  },
  {
   "cell_type": "code",
   "execution_count": 10,
   "metadata": {},
   "outputs": [
    {
     "data": {
      "text/plain": [
       "Unnamed: 0            0\n",
       "name                  0\n",
       "layout                0\n",
       "mana_cost         10592\n",
       "cmc                   0\n",
       "colors            17568\n",
       "color_identity     9032\n",
       "names             81967\n",
       "type                  0\n",
       "supertypes        68275\n",
       "subtypes          31334\n",
       "types                 0\n",
       "rarity                0\n",
       "text               1079\n",
       "flavor            40767\n",
       "artist                8\n",
       "number                0\n",
       "power             42901\n",
       "toughness         42901\n",
       "loyalty           80622\n",
       "multiverse_id     25742\n",
       "variations        60337\n",
       "watermark         76106\n",
       "border            81967\n",
       "timeshifted       81967\n",
       "hand              81848\n",
       "life              81848\n",
       "release_date      81967\n",
       "starter           81967\n",
       "printings             0\n",
       "original_text     27124\n",
       "original_type     25924\n",
       "source            81967\n",
       "image_url         25742\n",
       "set                   0\n",
       "set_name              0\n",
       "id                    0\n",
       "legalities         4616\n",
       "rulings           35800\n",
       "foreign_names     34724\n",
       "dtype: int64"
      ]
     },
     "execution_count": 10,
     "metadata": {},
     "output_type": "execute_result"
    }
   ],
   "source": [
    "cards_df.isna().sum()"
   ]
  },
  {
   "cell_type": "code",
   "execution_count": 11,
   "metadata": {},
   "outputs": [
    {
     "data": {
      "text/plain": [
       "Unnamed: 0                 0\n",
       "code                       0\n",
       "name                       0\n",
       "type                       0\n",
       "border                   711\n",
       "mkm_id                   711\n",
       "mkm_name                 711\n",
       "release_date               0\n",
       "gatherer_code            711\n",
       "magic_cards_info_code    711\n",
       "booster                  575\n",
       "old_code                 711\n",
       "block                    393\n",
       "online_only                0\n",
       "dtype: int64"
      ]
     },
     "execution_count": 11,
     "metadata": {},
     "output_type": "execute_result"
    }
   ],
   "source": [
    "sets_df.isna().sum()"
   ]
  },
  {
   "cell_type": "markdown",
   "metadata": {},
   "source": [
    "## 3. Data Cleaning"
   ]
  },
  {
   "cell_type": "markdown",
   "metadata": {},
   "source": [
    "## Drop Columns"
   ]
  },
  {
   "cell_type": "code",
   "execution_count": 12,
   "metadata": {},
   "outputs": [],
   "source": [
    "card_cols_drop = ['Unnamed: 0', 'colors', 'names', 'type', 'number', 'multiverse_id', 'variations', 'watermark', 'border', 'timeshifted', 'hand', 'life', 'starter', 'printings', 'original_text', 'original_type', 'source', 'rulings', 'foreign_names', 'release_date']\n",
    "set_cols_drop = ['Unnamed: 0','type', 'border', 'mkm_id','mkm_name', 'gatherer_code', 'magic_cards_info_code', 'old_code', 'online_only']"
   ]
  },
  {
   "cell_type": "code",
   "execution_count": 13,
   "metadata": {},
   "outputs": [],
   "source": [
    "cards_df.drop(card_cols_drop, axis=1, inplace=True)\n",
    "sets_df.drop(set_cols_drop, axis=1, inplace=True)"
   ]
  },
  {
   "cell_type": "markdown",
   "metadata": {},
   "source": [
    "## Drop Rows\n",
    "\n",
    "We don't want to look at \"Un-\" sets (such as Unglued and Unhinged), which are joke sets and would not contribute to meaningful analysis. However, these should be removed when checking for legailty."
   ]
  },
  {
   "cell_type": "code",
   "execution_count": 14,
   "metadata": {},
   "outputs": [],
   "source": [
    "discluded_sets = ['Unhinged', 'Unglued', 'Unstable', 'Unsanctioned', 'Unfinity']\n",
    "#cards_df = cards_df.dropna(subset=['set_name'])[~cards_df['set_name'].isin(discluded_sets)]\n",
    "#sets_df = sets_df.dropna(subset=[\"name\"])[~sets_df['name'].isin(discluded_sets)]"
   ]
  },
  {
   "cell_type": "code",
   "execution_count": 15,
   "metadata": {},
   "outputs": [],
   "source": [
    "#cards_df = cards_df[~cards_df['name'].isnull()]\n",
    "#sets_df = sets_df[~sets_df['name'].isnull()]"
   ]
  },
  {
   "cell_type": "markdown",
   "metadata": {},
   "source": [
    "## Fix Columns\n",
    "\n",
    "Explode the lists or make them a string (colors, color_identity, supertypes, types, subtypes). Create a link to alt_side using \"names\" column. \"legality\" is a dictionary and needs to be exploded. \"manaCost\" needs to have {} characters removed. Take a count of \"booster\" column in sets_df for rarity types in booster."
   ]
  },
  {
   "cell_type": "code",
   "execution_count": 16,
   "metadata": {},
   "outputs": [],
   "source": [
    "explode_cards = ['color_identity', 'supertypes', 'types', 'subtypes']\n",
    "explode_sets = ['booster']\n",
    "\n",
    "expand_cards = ['names']\n",
    "\n",
    "explode_dict_cards = [\"legality\", \"mana_cost\"]"
   ]
  },
  {
   "cell_type": "markdown",
   "metadata": {},
   "source": [
    "### Fix \"legalities\"\n",
    "\n",
    "There are a number of formats which include certain sets, some of them involving rotating sets. In addition to this, some released cards proved to be too strong for formats of play, resulting in their ban from those formats. As a result, this would be information we might want to explore."
   ]
  },
  {
   "cell_type": "code",
   "execution_count": 17,
   "metadata": {},
   "outputs": [],
   "source": [
    "def legality_str_to_dict(string: str):\n",
    "    if type(string) != str:\n",
    "        return string\n",
    "    string = string.strip('[]')\n",
    "    pairs = string.split('}, {')\n",
    "    pairs = [pair.replace(\"'\",\"\").replace(\"{\",\"\").replace(\"}\",\"\").replace('format: ', \"\").replace('legality: ', \"\") for pair in pairs]\n",
    "    return {key:value for key, value in (pair.split(\", \") for pair in pairs)}"
   ]
  },
  {
   "cell_type": "code",
   "execution_count": 18,
   "metadata": {},
   "outputs": [
    {
     "name": "stdout",
     "output_type": "stream",
     "text": [
      "{'Brawl', 'Explorer', 'Predh', 'Modern', 'Oathbreaker', 'Premodern', 'Historicbrawl', 'Legacy', 'Oldschool', 'Alchemy', 'Gladiator', 'Pauper', 'Duel', 'Future', 'Standard', 'Commander', 'Pioneer', 'Vintage', 'Penny', 'Historic', 'Paupercommander'}\n"
     ]
    }
   ],
   "source": [
    "legalities = pd.json_normalize(cards_df['legalities'].apply(lambda x: legality_str_to_dict(x)))\n",
    "formats = set(legalities.columns)\n",
    "print(formats)"
   ]
  },
  {
   "cell_type": "code",
   "execution_count": 19,
   "metadata": {},
   "outputs": [],
   "source": [
    "if cards_df.shape[0]==legalities.shape[0]:\n",
    "    cards_df = pd.concat([cards_df.loc[:,~cards_df.columns.isin(['legalities'])].reset_index(drop=True), legalities.reset_index(drop=True)], axis=1)\n",
    "else:\n",
    "    raise ValueError(\"Lengths are mismatched\")"
   ]
  },
  {
   "cell_type": "markdown",
   "metadata": {},
   "source": [
    "### Fill \"null\" Legalities with \"Not Legal\"\n",
    "\n",
    "For missing values in legality columns (listed in \"formats\"), we can replace null values with *\"Not Legal\"*, as they have either rotated out of the format, exist before the created date, or not allowed based upon some other set or format related restriction."
   ]
  },
  {
   "cell_type": "code",
   "execution_count": 20,
   "metadata": {},
   "outputs": [
    {
     "name": "stdout",
     "output_type": "stream",
     "text": [
      "Brawl              0\n",
      "Explorer           0\n",
      "Predh              0\n",
      "Modern             0\n",
      "Oathbreaker        0\n",
      "Premodern          0\n",
      "Historicbrawl      0\n",
      "Legacy             0\n",
      "Oldschool          0\n",
      "Alchemy            0\n",
      "Gladiator          0\n",
      "Pauper             0\n",
      "Duel               0\n",
      "Future             0\n",
      "Standard           0\n",
      "Commander          0\n",
      "Pioneer            0\n",
      "Vintage            0\n",
      "Penny              0\n",
      "Historic           0\n",
      "Paupercommander    0\n",
      "dtype: int64\n"
     ]
    }
   ],
   "source": [
    "cards_df[list(formats)] = cards_df[list(formats)].fillna(\"Not Legal\")\n",
    "print(cards_df[list(formats)].isna().sum())"
   ]
  },
  {
   "cell_type": "markdown",
   "metadata": {},
   "source": [
    "### Remove \"Not Legal\" Cards\n",
    "\n",
    "I wan to keep focus on tournament legal cards. As a result, its best to remove all cards that are \"Not Legal\" in any format."
   ]
  },
  {
   "cell_type": "code",
   "execution_count": 21,
   "metadata": {},
   "outputs": [
    {
     "data": {
      "text/plain": [
       "(77351, 40)"
      ]
     },
     "execution_count": 21,
     "metadata": {},
     "output_type": "execute_result"
    }
   ],
   "source": [
    "cards_df = cards_df[~cards_df[list(formats)].eq('Not Legal').all(axis=1)]\n",
    "cards_df.shape"
   ]
  },
  {
   "cell_type": "markdown",
   "metadata": {},
   "source": [
    "### Fix 'manaCost'\n",
    "\n",
    "We need to reformat the string to remove the \"{}\" characters from the columns, leaving us with just the manacost. Each value in this list will involve letters and numbers, denoting the required mana used to cast the spell. Each letter specifies the type of mana used, while any numbers display a needed amount of mana that is additionally needed without a requirement of mana type."
   ]
  },
  {
   "cell_type": "code",
   "execution_count": 22,
   "metadata": {},
   "outputs": [],
   "source": [
    "def cmc_to_dict(mana_str: str):\n",
    "    if type(mana_str)!=str or mana_str == '':\n",
    "        return {'N': 0}\n",
    "\n",
    "    str_list = [str(item).replace(\"{\",\"\").replace(\"}\",\"\") for item in str(mana_str).split(\"}{\")]\n",
    "\n",
    "    # remove the non-requirement part of mana cost\n",
    "    for value in str_list:\n",
    "        if value.isnumeric():\n",
    "            c_cost = int(value)\n",
    "            str_list.remove(value)\n",
    "        else:\n",
    "            c_cost = 0\n",
    "\n",
    "    # String to Dictionary\n",
    "    str_dict = {'N': c_cost}\n",
    "    for item in set(str_list):\n",
    "       str_dict[item] = str_list.count(item)\n",
    "\n",
    "    return str_dict"
   ]
  },
  {
   "cell_type": "markdown",
   "metadata": {},
   "source": [
    "There are a few rules to keep in mind for the following mana values.\n",
    "\n",
    "* **/** represent that this mana value has multiple options to be paid through, using each value in the statement to be paid in place of the other\n",
    "* Any numeric value *n* displays the option to pay *n* of any type of mana\n",
    "* **B** represents Black mana, which traditionally comes from *Swamps*\n",
    "* **C** represents colorless mana which were added later in MTG development, and come from any source that produces colorless mana or *Wastes*\n",
    "* **G** represents Green mana, which tradionally comes from *Forests*\n",
    "* **P** represents Phyrexian mana, which presents the option to pay 2 life\n",
    "* **R** represents Red mana, which traditionally comes from *Mountains*\n",
    "* **U** represents Blue mana, which traditionally comes from *Islands*\n",
    "* **W** represents White mana, which traditionally comes from *Plains*\n",
    "* **S** represents mana that comes from a *Snow-covered* permanent, such as a *Snow-Covered Island* or *Snow-Covered Mountain*\n",
    "* **X** represents an option to spend any amount of mana of any color, usually influencing the effects of the card"
   ]
  },
  {
   "cell_type": "code",
   "execution_count": 23,
   "metadata": {},
   "outputs": [
    {
     "name": "stdout",
     "output_type": "stream",
     "text": [
      "{'2/B', 'G/P', 'U', 'W/P', 'G/W', 'X', 'W', 'G', 'G/U', 'N', 'U/B', 'R/G/P', 'B/P', 'B', 'U/R', 'S', 'R/P', 'W/B', 'G/U/P', 'U/P', 'R/W', '2/U', '2/R', 'R', '2/W', 'B/R', '2/G', 'G/W/P', 'R/G', 'B/G', 'W/U', 'C', 'R/W/P'}\n"
     ]
    }
   ],
   "source": [
    "mana_costs = pd.json_normalize(cards_df['mana_cost'].apply(lambda x: cmc_to_dict(x)))\n",
    "mana_cost_values = set(mana_costs.columns)\n",
    "print(mana_cost_values)"
   ]
  },
  {
   "cell_type": "code",
   "execution_count": 24,
   "metadata": {},
   "outputs": [],
   "source": [
    "if cards_df.shape[0]==mana_costs.shape[0]:\n",
    "    cards_df = pd.concat([cards_df.loc[:,~cards_df.columns.isin(['mana_cost'])].reset_index(drop=True), mana_costs.reset_index(drop=True)], axis=1)\n",
    "else:\n",
    "    raise ValueError(\"lengths are mismatched\")"
   ]
  },
  {
   "cell_type": "code",
   "execution_count": 25,
   "metadata": {},
   "outputs": [
    {
     "data": {
      "text/plain": [
       "Index(['name', 'layout', 'cmc', 'color_identity', 'supertypes', 'subtypes',\n",
       "       'types', 'rarity', 'text', 'flavor', 'artist', 'power', 'toughness',\n",
       "       'loyalty', 'image_url', 'set', 'set_name', 'id', 'Commander', 'Duel',\n",
       "       'Legacy', 'Modern', 'Oathbreaker', 'Paupercommander', 'Penny', 'Predh',\n",
       "       'Premodern', 'Vintage', 'Gladiator', 'Historic', 'Historicbrawl',\n",
       "       'Pauper', 'Pioneer', 'Explorer', 'Alchemy', 'Brawl', 'Future',\n",
       "       'Standard', 'Oldschool', 'N', 'W', 'X', 'U', 'B', 'R', 'G', 'B/P',\n",
       "       'B/R', 'R/W', 'R/G', 'B/G', 'W/B', 'U/B', 'U/R', 'W/U', 'G/U', 'G/W',\n",
       "       'U/P', '2/W', 'R/P', '2/R', 'G/W/P', 'C', 'W/P', '2/G', '2/B', '2/U',\n",
       "       'G/P', 'S', 'G/U/P', 'R/G/P', 'R/W/P'],\n",
       "      dtype='object')"
      ]
     },
     "execution_count": 25,
     "metadata": {},
     "output_type": "execute_result"
    }
   ],
   "source": [
    "cards_df.columns"
   ]
  },
  {
   "cell_type": "markdown",
   "metadata": {},
   "source": [
    "### Fill \"null\" Values in Mana Cost\n",
    "\n",
    "For missing values in mana cost columns (listed in \"mana_cost_values\"), we can replace null values with *0*, as there is no cost associated with the column type."
   ]
  },
  {
   "cell_type": "code",
   "execution_count": 26,
   "metadata": {},
   "outputs": [],
   "source": [
    "cards_df[list(mana_cost_values)] = cards_df[list(mana_cost_values)].fillna(0)"
   ]
  },
  {
   "cell_type": "code",
   "execution_count": 27,
   "metadata": {},
   "outputs": [
    {
     "name": "stdout",
     "output_type": "stream",
     "text": [
      "name  0\n",
      "2/B      0\n",
      "G/P      0\n",
      "U        0\n",
      "W/P      0\n",
      "G/W      0\n",
      "X        0\n",
      "W        0\n",
      "G        0\n",
      "G/U      0\n",
      "N        0\n",
      "U/B      0\n",
      "R/G/P    0\n",
      "B/P      0\n",
      "B        0\n",
      "U/R      0\n",
      "S        0\n",
      "R/P      0\n",
      "W/B      0\n",
      "G/U/P    0\n",
      "U/P      0\n",
      "R/W      0\n",
      "2/U      0\n",
      "2/R      0\n",
      "R        0\n",
      "2/W      0\n",
      "B/R      0\n",
      "2/G      0\n",
      "G/W/P    0\n",
      "R/G      0\n",
      "B/G      0\n",
      "W/U      0\n",
      "C        0\n",
      "R/W/P    0\n",
      "dtype: int64\n"
     ]
    }
   ],
   "source": [
    "print(f\"name  {cards_df['name'].isna().sum()}\")\n",
    "print(cards_df[list(mana_cost_values)].isna().sum())"
   ]
  },
  {
   "cell_type": "markdown",
   "metadata": {},
   "source": [
    "### Create link to Alternate Side\n",
    "\n",
    "Some cards have an alternate side, whether through a card transformation mechanic or alternate version of the card that can be played instead. While they will be treated as different names, I can keep the alternate side linked to the card for analysis and display. These cards are denoted in the 'name' feature by a \" // \" substring separating the name for the two sides.\n",
    "\n",
    "I divided the card \"layout\" into four categories:\n",
    "\n",
    "* **alt_same_side**: The alternate spell is on the same side as the primary spell. Each mechanic has slightly different conditions, to cast the other function, or to have it take effect.\n",
    "* **alt_opp_side**: The alternate spell/land is on the other side of the card. For *\"transform\"*, this alternate card comes in based on a condition after the first side is played, sometimes with the ability to be flipped back over. For *\"modal_dfc\"*, the alternate side is a spell or land that can be played in its stead.\n",
    "* **unique_alt**: \"meld\" requires two cards to be played and actions taken for a third spell to be played.\n",
    "* **no_alt**: These are a single card with no alternate spells attached to them. It must be noted that despite the name, *\"reversible_card\"* do have two sides, bu they are alternate arts for the same spell."
   ]
  },
  {
   "cell_type": "code",
   "execution_count": 28,
   "metadata": {},
   "outputs": [],
   "source": [
    "alt_same_side = ['adventure', 'aftermath', 'split', 'flip']\n",
    "alt_opp_side = ['transform', 'modal_dfc']\n",
    "unique_alt = ['meld']\n",
    "no_alt = ['normal', 'saga', 'class', 'leveler', 'mutate', 'prototype', 'reversible_card'] # 'reversible_card' just has different art on both sides"
   ]
  },
  {
   "cell_type": "code",
   "execution_count": 29,
   "metadata": {},
   "outputs": [],
   "source": [
    "def split_alt_cards(series_in: pd.Series):\n",
    "    # check list of values iteratively for \" // \"\n",
    "    iter_in = iter(series_in)\n",
    "    name = []\n",
    "    alt_name = []\n",
    "\n",
    "    for card_name in iter_in:\n",
    "        if \" // \" not in card_name:\n",
    "            name.append(card_name)\n",
    "            alt_name.append(None)\n",
    "        # Checks for if alt card exists\n",
    "        elif \" // \" in card_name:\n",
    "            card_name = card_name.split(\" // \")\n",
    "            name.append(card_name[0])\n",
    "            name.append(card_name[1])\n",
    "            alt_name.append(card_name[1])\n",
    "            alt_name.append(card_name[0])\n",
    "            # skips to next card so that we can skip the second occurence\n",
    "            next(iter_in)\n",
    "        else:\n",
    "            raise ValueError(\"Unknown Card Name Amounts\")\n",
    "        \n",
    "    return name, alt_name"
   ]
  },
  {
   "cell_type": "code",
   "execution_count": 30,
   "metadata": {},
   "outputs": [],
   "source": [
    "names, alt_names = split_alt_cards(cards_df['name'])\n",
    "cards_df.loc[:,'name'] = names\n",
    "cards_df.loc[:,'alt_name'] = alt_names"
   ]
  },
  {
   "cell_type": "markdown",
   "metadata": {},
   "source": [
    "### Fill Nulls with \"0\"\n",
    "\n",
    "There are a number of columns that need to be filled in with 0, because they are more than likely of a spell type that neccessitates certain values to be 0. These columns include *\"power\"*, *\"toughness\"*, and *\"loyalty\"*."
   ]
  },
  {
   "cell_type": "code",
   "execution_count": 31,
   "metadata": {},
   "outputs": [
    {
     "name": "stdout",
     "output_type": "stream",
     "text": [
      "cmc          0\n",
      "power        0\n",
      "toughness    0\n",
      "loyalty      0\n",
      "2/B          0\n",
      "G/P          0\n",
      "U            0\n",
      "W/P          0\n",
      "G/W          0\n",
      "X            0\n",
      "W            0\n",
      "G            0\n",
      "G/U          0\n",
      "N            0\n",
      "U/B          0\n",
      "R/G/P        0\n",
      "B/P          0\n",
      "B            0\n",
      "U/R          0\n",
      "S            0\n",
      "R/P          0\n",
      "W/B          0\n",
      "G/U/P        0\n",
      "U/P          0\n",
      "R/W          0\n",
      "2/U          0\n",
      "2/R          0\n",
      "R            0\n",
      "2/W          0\n",
      "B/R          0\n",
      "2/G          0\n",
      "G/W/P        0\n",
      "R/G          0\n",
      "B/G          0\n",
      "W/U          0\n",
      "C            0\n",
      "R/W/P        0\n",
      "dtype: int64\n"
     ]
    }
   ],
   "source": [
    "fill_with_0 = ['cmc', 'power', 'toughness', 'loyalty']\n",
    "\n",
    "fill_with_0.extend(mana_cost_values)\n",
    "\n",
    "cards_df[fill_with_0] = cards_df[fill_with_0].fillna(0)\n",
    "\n",
    "print(cards_df[fill_with_0].isna().sum())"
   ]
  },
  {
   "cell_type": "markdown",
   "metadata": {},
   "source": [
    "### Explode Columns\n",
    "\n",
    "Manageable explosions of columns include *\"supertypes\"*, *\"types\"*, and *\"color_identity\"*, while *\"subtypes\"* could be become excessive very easily. At the time of this notebook, there are 358 unique subtypes. While a large number, it will be included and converted to boolean value, width-wise. This is something to potentially revsit in the future."
   ]
  },
  {
   "cell_type": "code",
   "execution_count": 32,
   "metadata": {},
   "outputs": [],
   "source": [
    "def str_to_list(string: str):\n",
    "    if type(string) != str:\n",
    "        return string\n",
    "    string = string.strip('[]')\n",
    "    return [item.strip(\"\\'\") for item in string.split(', ')]"
   ]
  },
  {
   "cell_type": "code",
   "execution_count": 33,
   "metadata": {},
   "outputs": [],
   "source": [
    "for col in explode_cards:\n",
    "    exploded_df = cards_df[col].apply(lambda x: str_to_list(x)).str.join(',').str.get_dummies(',')\n",
    "\n",
    "    # differentiating the color identity columns from the mana cost columns\n",
    "    if col == 'color_identity':\n",
    "        color_identities = [(col + \"_identity\") for col in list(exploded_df.columns)]\n",
    "        exploded_df.columns = color_identities\n",
    "    elif col == 'supertypes':\n",
    "        supertypes = exploded_df.columns\n",
    "    elif col == 'types':\n",
    "        card_types = exploded_df.columns\n",
    "    elif col == 'subtypes':\n",
    "        subtypes = exploded_df.columns\n",
    "    else:\n",
    "        raise ValueError(\"Exploded column is unknown\")\n",
    "\n",
    "    # combine onto the cards_df and ignoring the original column\n",
    "    if cards_df.shape[0]==exploded_df.shape[0]:\n",
    "        cards_df = pd.concat([cards_df.loc[:,~cards_df.columns.isin([col])].reset_index(drop=True), exploded_df.reset_index(drop=True)], axis=1)\n",
    "    else:\n",
    "        raise ValueError(f\"Lengths are mismatched for {col} \\n            cards_df length is {cards_df.shape[0]} \\n            new column length is {exploded_df.shape[0]}\")"
   ]
  },
  {
   "cell_type": "markdown",
   "metadata": {},
   "source": [
    "### Expand *sets_df* Booster Rarity Types\n",
    "\n",
    "When a set of cards releases boosters, a pack of randomly selected cards, they tend to contain a certain number of cards of specific rarities. By exploding this column, sets_df can better represent this."
   ]
  },
  {
   "cell_type": "code",
   "execution_count": 34,
   "metadata": {},
   "outputs": [],
   "source": [
    "def booster_str_to_dict(booster):\n",
    "    if type(booster)!= str:\n",
    "        return booster\n",
    "    \n",
    "    nested_list = True if booster.count(\"]\") > 1 else False\n",
    "\n",
    "    if not nested_list:\n",
    "        booster_list = str_to_list(booster)\n",
    "    else:\n",
    "        booster_split = booster[1:-1]  # Removes outside brackets\n",
    "        booster_split = booster_split.split(']')  # separates string so we can track booster spots that could be one of multiple rarities\n",
    "        \"\"\"\n",
    "        This code operates under the assumption that any nested list (which would signify that position holds one of the listed rarities) would still contain a '[' at the start.\n",
    "        This would mean that any item that does not contain a '[' would all be present in the booster, and can be added individually to the booster pack.\n",
    "        \"\"\"\n",
    "        for i in range(len(booster_split)):\n",
    "            if \"[\" in booster_split[i]:\n",
    "                rarity_chance = str_to_list(booster_split[i])\n",
    "                booster_split[i] = [\"/\".join(rarity_chance).replace(\" \", \"_\")]\n",
    "            else:\n",
    "                booster_split[i] = str_to_list(booster_split[i])\n",
    "                \n",
    "        booster_list = sum(booster_split,[])  # Flattens nested list\n",
    "        booster_list.remove(\"\")\n",
    "\n",
    "    out_count = {}\n",
    "    for rarity in set(booster_list):\n",
    "        out_count[rarity] = booster_list.count(rarity)\n",
    "\n",
    "    return out_count"
   ]
  },
  {
   "cell_type": "code",
   "execution_count": 35,
   "metadata": {},
   "outputs": [
    {
     "name": "stdout",
     "output_type": "stream",
     "text": [
      "{'rare/mythic_rare', 'rare', 'uncommon', 'common'}\n"
     ]
    }
   ],
   "source": [
    "booster_rarities = pd.json_normalize(sets_df['booster'].apply(lambda x: booster_str_to_dict(x)))\n",
    "booster_rarities.fillna(0, inplace=True)\n",
    "rarities = set(booster_rarities.columns)\n",
    "print(rarities)"
   ]
  },
  {
   "cell_type": "code",
   "execution_count": 36,
   "metadata": {},
   "outputs": [],
   "source": [
    "if sets_df.shape[0]==booster_rarities.shape[0]:\n",
    "    sets_df = pd.concat([sets_df.loc[:,~sets_df.columns.isin(['booster'])].reset_index(drop=True), booster_rarities.reset_index(drop=True)], axis=1)\n",
    "else:\n",
    "    raise ValueError(\"Lengths are mismatched\")"
   ]
  },
  {
   "cell_type": "markdown",
   "metadata": {},
   "source": [
    "### Reorganize Data Tables\n",
    "\n",
    "Any more missing values in the dataset should be filtered out as the data is organized into appropriate tables. This table schema will be as follows. **PK** represents a Primary Key, **FK** represents a Foreign Key, **multi** represents multiple columns that represent the table the name or named column(s). **multi** also represents a variable number of columns that can be expanded or reduced based on the cards that meet the competitive criteria set forth for this project."
   ]
  },
  {
   "cell_type": "markdown",
   "metadata": {},
   "source": [
    "![Data Schema Not Showing](./images/MTG_Database_Schema_Diagram.png)"
   ]
  },
  {
   "cell_type": "markdown",
   "metadata": {},
   "source": [
    "* **Boosters:** Represents the distribution of card rarities in a set.\n",
    "* **Sets:** Represents information regarding each set, include the name, shorthand, release date, and the block it is a part of. Multiple sets of cards are released as a block over some period of time, usually centered on a theme or story.\n",
    "* **CardsPrintings:** This table differentiates between the different printings of cards, including the first printing and all reprintings of that card. While the *text* on the card should not differ in terms of function, cards will sometimes include descriptions of certain values in the text or assume that the player understands the function of the key word, such as *flying* or *trample*. There are also sometimes rewording of this text to make the card's affects appear more clear or match current wordings on cards.\n",
    "* **Cards** Represents the consist parts of each card that will not change between printings.\n",
    "* **CardsLegality:** Represents the legality of each card in each official format of play.\n",
    "* **CardsCost:** Represents the mana values that must be spent to cast the card. *land* cards will be removed from this table because they function differently from other cards.\n",
    "* **CardsColorIdentity:** Represents the color identities of cards, which can differ from the costs of the card.\n",
    "* **CardsSubtypes:** Represents one of the card typings, which can be made up of multiple parts. A creature can be both *\"Human\"* and *\"Warrior\"* and have different affects than the other typings such as *\"Legendary\"* or *\"Instant\"*.\n",
    "* **CardsSupertypes:** Represents one of the card typings, which are more unique than subtypes. Most cards will nto have one of these typings, but it is important to recognize cards that do, because they usually have some rules that apply only to them. Includes terms such as *\"Basic\"* and *\"Legendary\"*.\n",
    "* **CardsTypes:** Represents one of the card typings, dictating the function of the card. Every card will be at least one of the typings on this list, and determines how/when they are played. Includes terms such as *\"Creature\"* and *\"Sorcery\"*."
   ]
  },
  {
   "cell_type": "code",
   "execution_count": 37,
   "metadata": {},
   "outputs": [],
   "source": [
    "boosters_cols = list(rarities)\n",
    "boosters_cols.append(\"name\")\n",
    "\n",
    "sets_cols = ['name', 'code', 'release_date', 'block']"
   ]
  },
  {
   "cell_type": "code",
   "execution_count": 38,
   "metadata": {},
   "outputs": [],
   "source": [
    "cards_printings_cols = ['id', 'name', 'rarity', 'text', 'flavor', 'set_name', 'image_url']\n",
    "cards_cols = ['name', 'cmc', 'layout', 'power', 'toughness', 'loyalty', 'alt_name']\n",
    "\n",
    "cards_legality_cols = list(formats)\n",
    "cards_legality_cols.append(\"name\")\n",
    "\n",
    "cards_cost_cols = list(mana_cost_values)\n",
    "cards_cost_cols.append(\"name\")\n",
    "\n",
    "cards_color_identity_cols = list(color_identities)\n",
    "cards_color_identity_cols.append(\"name\")\n",
    "\n",
    "cards_subtypes_cols = list(subtypes)\n",
    "cards_subtypes_cols.append(\"name\")\n",
    "\n",
    "cards_supertypes_cols = list(subtypes)\n",
    "cards_supertypes_cols.append(\"name\")\n",
    "\n",
    "cards_types_cols = list(card_types)\n",
    "cards_types_cols.append(\"name\")"
   ]
  },
  {
   "cell_type": "markdown",
   "metadata": {},
   "source": [
    "## Save Tables"
   ]
  },
  {
   "cell_type": "code",
   "execution_count": 39,
   "metadata": {},
   "outputs": [],
   "source": [
    "Boosters = sets_df[boosters_cols]\n",
    "Sets = sets_df[sets_cols]\n",
    "CardsPrintings = cards_df[cards_printings_cols]\n",
    "Cards = cards_df[cards_cols]\n",
    "CardsLegality = cards_df[cards_legality_cols]\n",
    "CardsCost = cards_df[cards_cost_cols]\n",
    "CardsColorIdentity = cards_df[cards_color_identity_cols]\n",
    "CardsSubtypes = cards_df[cards_subtypes_cols]\n",
    "CardsSupertypes = cards_df[cards_supertypes_cols]\n",
    "CardsTypes = cards_df[cards_types_cols]"
   ]
  },
  {
   "cell_type": "code",
   "execution_count": 40,
   "metadata": {},
   "outputs": [],
   "source": [
    "MTGTables = [Boosters, Sets, CardsPrintings, Cards, CardsLegality, CardsCost, CardsColorIdentity, CardsSubtypes, CardsSupertypes, CardsTypes]\n",
    "MTGFileNames = [\"Boosters.csv\", \"Sets.csv\", \"CardsPrintings.csv\", \"Cards.csv\", \"CardsLegality.csv\", \"CardsCost.csv\", \"CardsColorIdentity.csv\", \"CardsSubtypes.csv\", \"CardsSupertypes.csv\", \"CardsTypes.csv\"]"
   ]
  },
  {
   "cell_type": "code",
   "execution_count": 41,
   "metadata": {},
   "outputs": [],
   "source": [
    "save_dir_path = os.path.join(os.getcwd(), \"data\", \"clean_data\")\n",
    "\n",
    "for i in range(len(MTGFileNames)):\n",
    "    save_file_path = os.path.join(save_dir_path, MTGFileNames[i])\n",
    "    MTGTables[i].to_csv(save_file_path, index=False)"
   ]
  },
  {
   "cell_type": "code",
   "execution_count": null,
   "metadata": {},
   "outputs": [],
   "source": []
  }
 ],
 "metadata": {
  "kernelspec": {
   "display_name": "Python 3",
   "language": "python",
   "name": "python3"
  },
  "language_info": {
   "codemirror_mode": {
    "name": "ipython",
    "version": 3
   },
   "file_extension": ".py",
   "mimetype": "text/x-python",
   "name": "python",
   "nbconvert_exporter": "python",
   "pygments_lexer": "ipython3",
   "version": "3.8.0"
  }
 },
 "nbformat": 4,
 "nbformat_minor": 2
}
