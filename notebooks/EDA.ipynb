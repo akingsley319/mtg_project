{
 "cells": [
  {
   "cell_type": "markdown",
   "metadata": {},
   "source": [
    "# Exploratory Data Analysis"
   ]
  },
  {
   "cell_type": "markdown",
   "metadata": {},
   "source": [
    "## Introduction"
   ]
  },
  {
   "cell_type": "markdown",
   "metadata": {},
   "source": [
    "### Import Libraries"
   ]
  },
  {
   "cell_type": "code",
   "execution_count": 3,
   "metadata": {},
   "outputs": [],
   "source": [
    "%matplotlib inline\n",
    "\n",
    "import os\n",
    "\n",
    "import pandas as pd\n",
    "import numpy as np\n",
    "\n",
    "import matplotlib\n",
    "import matplotlib.pyplot as plt\n",
    "import plotly.express as px"
   ]
  },
  {
   "cell_type": "markdown",
   "metadata": {},
   "source": [
    "### Load in Datasets\n",
    "\n",
    "These datasets have already been cleaned and formatted in *DataCleaning.ipynb*."
   ]
  },
  {
   "cell_type": "code",
   "execution_count": 4,
   "metadata": {},
   "outputs": [],
   "source": [
    "DIR_PATH = os.path.join(os.getcwd(), \"data\", \"clean_data\")"
   ]
  },
  {
   "cell_type": "code",
   "execution_count": 9,
   "metadata": {},
   "outputs": [],
   "source": [
    "Boosters = pd.read_csv(os.path.join(DIR_PATH, \"Boosters.csv\"))\n",
    "Cards = pd.read_csv(os.path.join(DIR_PATH, \"Cards.csv\"))\n",
    "CardsColorIdentity = pd.read_csv(os.path.join(DIR_PATH, \"CardsColorIdentity.csv\"))\n",
    "CardsCost = pd.read_csv(os.path.join(DIR_PATH, \"CardsCost.csv\"))\n",
    "CardsLegality = pd.read_csv(os.path.join(DIR_PATH, \"CardsLegality.csv\"))\n",
    "CardsPrintings = pd.read_csv(os.path.join(DIR_PATH, \"CardsPrintings.csv\"))\n",
    "CardsSubtypes = pd.read_csv(os.path.join(DIR_PATH, \"CardsSubtypes.csv\"))\n",
    "CardsSupertypes = pd.read_csv(os.path.join(DIR_PATH, \"CardsSupertypes.csv\"))\n",
    "CardsTypes = pd.read_csv(os.path.join(DIR_PATH, \"CardsTypes.csv\"))\n",
    "Sets = pd.read_csv(os.path.join(DIR_PATH, \"Sets.csv\"))"
   ]
  },
  {
   "cell_type": "markdown",
   "metadata": {},
   "source": [
    "## Analysis"
   ]
  },
  {
   "cell_type": "code",
   "execution_count": null,
   "metadata": {},
   "outputs": [],
   "source": []
  },
  {
   "cell_type": "code",
   "execution_count": null,
   "metadata": {},
   "outputs": [],
   "source": []
  },
  {
   "cell_type": "code",
   "execution_count": null,
   "metadata": {},
   "outputs": [],
   "source": []
  },
  {
   "cell_type": "code",
   "execution_count": null,
   "metadata": {},
   "outputs": [],
   "source": []
  },
  {
   "cell_type": "code",
   "execution_count": null,
   "metadata": {},
   "outputs": [],
   "source": []
  }
 ],
 "metadata": {
  "kernelspec": {
   "display_name": "Python 3",
   "language": "python",
   "name": "python3"
  },
  "language_info": {
   "codemirror_mode": {
    "name": "ipython",
    "version": 3
   },
   "file_extension": ".py",
   "mimetype": "text/x-python",
   "name": "python",
   "nbconvert_exporter": "python",
   "pygments_lexer": "ipython3",
   "version": "3.8.0"
  }
 },
 "nbformat": 4,
 "nbformat_minor": 2
}
